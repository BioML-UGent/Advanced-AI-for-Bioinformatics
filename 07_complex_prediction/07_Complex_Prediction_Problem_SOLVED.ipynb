{
  "cells": [
    {
      "cell_type": "markdown",
      "metadata": {},
      "source": [
        "# Multi-Target Prediction"
      ]
    },
    {
      "cell_type": "markdown",
      "metadata": {
        "id": "Uf8EK_Ifup0l"
      },
      "source": [
        "We will use the [KIBA benchmark dataset](https://researchportal.helsinki.fi/en/datasets/kiba-a-benchmark-dataset-for-drug-target-prediction) of kinase inhibitor bioactivities as our example. KIBA is a large-scale drug-target binding affinity dataset originally containing 52,498 compounds and 467 kinase targets (246,088 affinity values). Each record is a drug-protein pair labeled with a continuous affinity score. We will load the dataset in PyTorch, explore its structure, and then implement three modeling approaches:\n",
        "\n",
        "\n",
        "1. a basic matrix factorization via SVD\n",
        "2. a two-branch neural network using learned embeddings\n",
        "3. an extended two-branch network that also uses explicit drug/protein features to allow zero-shot prediction on new drugs or targets."
      ]
    },
    {
      "cell_type": "code",
      "execution_count": 1,
      "metadata": {
        "colab": {
          "base_uri": "https://localhost:8080/"
        },
        "id": "hXQNBIceW5dj",
        "outputId": "bf12fffd-a06f-47fb-8e4f-8f367a03b977"
      },
      "outputs": [
        {
          "name": "stdout",
          "output_type": "stream",
          "text": [
            "Requirement already satisfied: rdkit in /usr/local/lib/python3.12/dist-packages (2023.9.6)\n",
            "Requirement already satisfied: numpy in /usr/local/lib/python3.12/dist-packages (from rdkit) (1.26.4)\n",
            "Requirement already satisfied: Pillow in /usr/local/lib/python3.12/dist-packages (from rdkit) (11.3.0)\n",
            "Requirement already satisfied: pyTDC in /usr/local/lib/python3.12/dist-packages (1.0.0)\n",
            "Requirement already satisfied: biopython<2.0,>=1.78 in /usr/local/lib/python3.12/dist-packages (from pyTDC) (1.85)\n",
            "Requirement already satisfied: dataclasses<1.0,>=0.6 in /usr/local/lib/python3.12/dist-packages (from pyTDC) (0.6)\n",
            "Requirement already satisfied: fuzzywuzzy<1.0,>=0.18.0 in /usr/local/lib/python3.12/dist-packages (from pyTDC) (0.18.0)\n",
            "Requirement already satisfied: huggingface-hub<1.0,>=0.20.3 in /usr/local/lib/python3.12/dist-packages (from pyTDC) (0.35.3)\n",
            "Requirement already satisfied: mygene<4.0.0,>=3.2.2 in /usr/local/lib/python3.12/dist-packages (from pyTDC) (3.2.2)\n",
            "Requirement already satisfied: numpy<2.0.0,>=1.26.4 in /usr/local/lib/python3.12/dist-packages (from pyTDC) (1.26.4)\n",
            "Requirement already satisfied: openpyxl<4.0.0,>=3.0.10 in /usr/local/lib/python3.12/dist-packages (from pyTDC) (3.1.5)\n",
            "Requirement already satisfied: pandas<3.0.0,>=2.1.4 in /usr/local/lib/python3.12/dist-packages (from pyTDC) (2.2.2)\n",
            "Requirement already satisfied: requests<3.0.0,>=2.31.0 in /usr/local/lib/python3.12/dist-packages (from pyTDC) (2.32.4)\n",
            "Requirement already satisfied: scikit-learn==1.2.2 in /usr/local/lib/python3.12/dist-packages (from pyTDC) (1.2.2)\n",
            "Requirement already satisfied: seaborn<1.0.0,>=0.12.2 in /usr/local/lib/python3.12/dist-packages (from pyTDC) (0.13.2)\n",
            "Requirement already satisfied: tqdm<5.0.0,>=4.65.0 in /usr/local/lib/python3.12/dist-packages (from pyTDC) (4.67.1)\n",
            "Requirement already satisfied: cellxgene-census<2.0.0,>=1.10.2 in /usr/local/lib/python3.12/dist-packages (from pyTDC) (1.17.0)\n",
            "Requirement already satisfied: gget<1.0.0,>=0.28.4 in /usr/local/lib/python3.12/dist-packages (from pyTDC) (0.29.3)\n",
            "Requirement already satisfied: pydantic<3.0.0,>=2.6.3 in /usr/local/lib/python3.12/dist-packages (from pyTDC) (2.11.10)\n",
            "Requirement already satisfied: rdkit<2024.3.1,>=2023.9.5 in /usr/local/lib/python3.12/dist-packages (from pyTDC) (2023.9.6)\n",
            "Requirement already satisfied: tiledbsoma<2.0.0,>=1.7.2 in /usr/local/lib/python3.12/dist-packages (from pyTDC) (1.17.1)\n",
            "Requirement already satisfied: yapf<1.0.0,>=0.40.2 in /usr/local/lib/python3.12/dist-packages (from pyTDC) (0.43.0)\n",
            "Requirement already satisfied: scipy>=1.3.2 in /usr/local/lib/python3.12/dist-packages (from scikit-learn==1.2.2->pyTDC) (1.16.2)\n",
            "Requirement already satisfied: joblib>=1.1.1 in /usr/local/lib/python3.12/dist-packages (from scikit-learn==1.2.2->pyTDC) (1.5.2)\n",
            "Requirement already satisfied: threadpoolctl>=2.0.0 in /usr/local/lib/python3.12/dist-packages (from scikit-learn==1.2.2->pyTDC) (3.6.0)\n",
            "Requirement already satisfied: anndata in /usr/local/lib/python3.12/dist-packages (from cellxgene-census<2.0.0,>=1.10.2->pyTDC) (0.12.3)\n",
            "Requirement already satisfied: typing_extensions in /usr/local/lib/python3.12/dist-packages (from cellxgene-census<2.0.0,>=1.10.2->pyTDC) (4.15.0)\n",
            "Requirement already satisfied: s3fs>=2021.06.1 in /usr/local/lib/python3.12/dist-packages (from cellxgene-census<2.0.0,>=1.10.2->pyTDC) (2025.9.0)\n",
            "Requirement already satisfied: ipython in /usr/local/lib/python3.12/dist-packages (from gget<1.0.0,>=0.28.4->pyTDC) (7.34.0)\n",
            "Requirement already satisfied: matplotlib in /usr/local/lib/python3.12/dist-packages (from gget<1.0.0,>=0.28.4->pyTDC) (3.10.0)\n",
            "Requirement already satisfied: mysql-connector-python>=8.0.32 in /usr/local/lib/python3.12/dist-packages (from gget<1.0.0,>=0.28.4->pyTDC) (9.4.0)\n",
            "Requirement already satisfied: beautifulsoup4>=4.10.0 in /usr/local/lib/python3.12/dist-packages (from gget<1.0.0,>=0.28.4->pyTDC) (4.13.5)\n",
            "Requirement already satisfied: ipywidgets in /usr/local/lib/python3.12/dist-packages (from gget<1.0.0,>=0.28.4->pyTDC) (7.7.1)\n",
            "Requirement already satisfied: lxml in /usr/local/lib/python3.12/dist-packages (from gget<1.0.0,>=0.28.4->pyTDC) (5.4.0)\n",
            "Requirement already satisfied: filelock in /usr/local/lib/python3.12/dist-packages (from huggingface-hub<1.0,>=0.20.3->pyTDC) (3.20.0)\n",
            "Requirement already satisfied: fsspec>=2023.5.0 in /usr/local/lib/python3.12/dist-packages (from huggingface-hub<1.0,>=0.20.3->pyTDC) (2025.9.0)\n",
            "Requirement already satisfied: packaging>=20.9 in /usr/local/lib/python3.12/dist-packages (from huggingface-hub<1.0,>=0.20.3->pyTDC) (25.0)\n",
            "Requirement already satisfied: pyyaml>=5.1 in /usr/local/lib/python3.12/dist-packages (from huggingface-hub<1.0,>=0.20.3->pyTDC) (6.0.3)\n",
            "Requirement already satisfied: hf-xet<2.0.0,>=1.1.3 in /usr/local/lib/python3.12/dist-packages (from huggingface-hub<1.0,>=0.20.3->pyTDC) (1.1.10)\n",
            "Requirement already satisfied: biothings-client>=0.2.6 in /usr/local/lib/python3.12/dist-packages (from mygene<4.0.0,>=3.2.2->pyTDC) (0.4.1)\n",
            "Requirement already satisfied: et-xmlfile in /usr/local/lib/python3.12/dist-packages (from openpyxl<4.0.0,>=3.0.10->pyTDC) (2.0.0)\n",
            "Requirement already satisfied: python-dateutil>=2.8.2 in /usr/local/lib/python3.12/dist-packages (from pandas<3.0.0,>=2.1.4->pyTDC) (2.9.0.post0)\n",
            "Requirement already satisfied: pytz>=2020.1 in /usr/local/lib/python3.12/dist-packages (from pandas<3.0.0,>=2.1.4->pyTDC) (2025.2)\n",
            "Requirement already satisfied: tzdata>=2022.7 in /usr/local/lib/python3.12/dist-packages (from pandas<3.0.0,>=2.1.4->pyTDC) (2025.2)\n",
            "Requirement already satisfied: annotated-types>=0.6.0 in /usr/local/lib/python3.12/dist-packages (from pydantic<3.0.0,>=2.6.3->pyTDC) (0.7.0)\n",
            "Requirement already satisfied: pydantic-core==2.33.2 in /usr/local/lib/python3.12/dist-packages (from pydantic<3.0.0,>=2.6.3->pyTDC) (2.33.2)\n",
            "Requirement already satisfied: typing-inspection>=0.4.0 in /usr/local/lib/python3.12/dist-packages (from pydantic<3.0.0,>=2.6.3->pyTDC) (0.4.2)\n",
            "Requirement already satisfied: Pillow in /usr/local/lib/python3.12/dist-packages (from rdkit<2024.3.1,>=2023.9.5->pyTDC) (11.3.0)\n",
            "Requirement already satisfied: charset_normalizer<4,>=2 in /usr/local/lib/python3.12/dist-packages (from requests<3.0.0,>=2.31.0->pyTDC) (3.4.3)\n",
            "Requirement already satisfied: idna<4,>=2.5 in /usr/local/lib/python3.12/dist-packages (from requests<3.0.0,>=2.31.0->pyTDC) (3.10)\n",
            "Requirement already satisfied: urllib3<3,>=1.21.1 in /usr/local/lib/python3.12/dist-packages (from requests<3.0.0,>=2.31.0->pyTDC) (2.5.0)\n",
            "Requirement already satisfied: certifi>=2017.4.17 in /usr/local/lib/python3.12/dist-packages (from requests<3.0.0,>=2.31.0->pyTDC) (2025.10.5)\n",
            "Requirement already satisfied: attrs>=22.2 in /usr/local/lib/python3.12/dist-packages (from tiledbsoma<2.0.0,>=1.7.2->pyTDC) (25.4.0)\n",
            "Requirement already satisfied: more-itertools in /usr/local/lib/python3.12/dist-packages (from tiledbsoma<2.0.0,>=1.7.2->pyTDC) (10.8.0)\n",
            "Requirement already satisfied: pyarrow in /usr/local/lib/python3.12/dist-packages (from tiledbsoma<2.0.0,>=1.7.2->pyTDC) (18.1.0)\n",
            "Requirement already satisfied: scanpy>=1.9.2 in /usr/local/lib/python3.12/dist-packages (from tiledbsoma<2.0.0,>=1.7.2->pyTDC) (1.11.4)\n",
            "Requirement already satisfied: somacore==1.0.28 in /usr/local/lib/python3.12/dist-packages (from tiledbsoma<2.0.0,>=1.7.2->pyTDC) (1.0.28)\n",
            "Requirement already satisfied: pyarrow-hotfix in /usr/local/lib/python3.12/dist-packages (from somacore==1.0.28->tiledbsoma<2.0.0,>=1.7.2->pyTDC) (0.7)\n",
            "Requirement already satisfied: shapely in /usr/local/lib/python3.12/dist-packages (from somacore==1.0.28->tiledbsoma<2.0.0,>=1.7.2->pyTDC) (2.1.2)\n",
            "Requirement already satisfied: platformdirs>=3.5.1 in /usr/local/lib/python3.12/dist-packages (from yapf<1.0.0,>=0.40.2->pyTDC) (4.5.0)\n",
            "Requirement already satisfied: array-api-compat>=1.7.1 in /usr/local/lib/python3.12/dist-packages (from anndata->cellxgene-census<2.0.0,>=1.10.2->pyTDC) (1.12.0)\n",
            "Requirement already satisfied: h5py>=3.8 in /usr/local/lib/python3.12/dist-packages (from anndata->cellxgene-census<2.0.0,>=1.10.2->pyTDC) (3.14.0)\n",
            "Requirement already satisfied: legacy-api-wrap in /usr/local/lib/python3.12/dist-packages (from anndata->cellxgene-census<2.0.0,>=1.10.2->pyTDC) (1.4.1)\n",
            "Requirement already satisfied: natsort in /usr/local/lib/python3.12/dist-packages (from anndata->cellxgene-census<2.0.0,>=1.10.2->pyTDC) (8.4.0)\n",
            "Requirement already satisfied: zarr!=3.0.*,>=2.18.7 in /usr/local/lib/python3.12/dist-packages (from anndata->cellxgene-census<2.0.0,>=1.10.2->pyTDC) (3.1.3)\n",
            "Requirement already satisfied: soupsieve>1.2 in /usr/local/lib/python3.12/dist-packages (from beautifulsoup4>=4.10.0->gget<1.0.0,>=0.28.4->pyTDC) (2.8)\n",
            "Requirement already satisfied: httpx>=0.22.0 in /usr/local/lib/python3.12/dist-packages (from biothings-client>=0.2.6->mygene<4.0.0,>=3.2.2->pyTDC) (0.28.1)\n",
            "Requirement already satisfied: contourpy>=1.0.1 in /usr/local/lib/python3.12/dist-packages (from matplotlib->gget<1.0.0,>=0.28.4->pyTDC) (1.3.3)\n",
            "Requirement already satisfied: cycler>=0.10 in /usr/local/lib/python3.12/dist-packages (from matplotlib->gget<1.0.0,>=0.28.4->pyTDC) (0.12.1)\n",
            "Requirement already satisfied: fonttools>=4.22.0 in /usr/local/lib/python3.12/dist-packages (from matplotlib->gget<1.0.0,>=0.28.4->pyTDC) (4.60.1)\n",
            "Requirement already satisfied: kiwisolver>=1.3.1 in /usr/local/lib/python3.12/dist-packages (from matplotlib->gget<1.0.0,>=0.28.4->pyTDC) (1.4.9)\n",
            "Requirement already satisfied: pyparsing>=2.3.1 in /usr/local/lib/python3.12/dist-packages (from matplotlib->gget<1.0.0,>=0.28.4->pyTDC) (3.2.5)\n",
            "Requirement already satisfied: six>=1.5 in /usr/local/lib/python3.12/dist-packages (from python-dateutil>=2.8.2->pandas<3.0.0,>=2.1.4->pyTDC) (1.17.0)\n",
            "Requirement already satisfied: aiobotocore<3.0.0,>=2.5.4 in /usr/local/lib/python3.12/dist-packages (from s3fs>=2021.06.1->cellxgene-census<2.0.0,>=1.10.2->pyTDC) (2.25.0)\n",
            "Requirement already satisfied: aiohttp!=4.0.0a0,!=4.0.0a1 in /usr/local/lib/python3.12/dist-packages (from s3fs>=2021.06.1->cellxgene-census<2.0.0,>=1.10.2->pyTDC) (3.13.0)\n",
            "Requirement already satisfied: networkx>=2.7.1 in /usr/local/lib/python3.12/dist-packages (from scanpy>=1.9.2->tiledbsoma<2.0.0,>=1.7.2->pyTDC) (3.5)\n",
            "Requirement already satisfied: numba>=0.57.1 in /usr/local/lib/python3.12/dist-packages (from scanpy>=1.9.2->tiledbsoma<2.0.0,>=1.7.2->pyTDC) (0.60.0)\n",
            "Requirement already satisfied: patsy!=1.0.0 in /usr/local/lib/python3.12/dist-packages (from scanpy>=1.9.2->tiledbsoma<2.0.0,>=1.7.2->pyTDC) (1.0.1)\n",
            "Requirement already satisfied: pynndescent>=0.5.13 in /usr/local/lib/python3.12/dist-packages (from scanpy>=1.9.2->tiledbsoma<2.0.0,>=1.7.2->pyTDC) (0.5.13)\n",
            "Requirement already satisfied: session-info2 in /usr/local/lib/python3.12/dist-packages (from scanpy>=1.9.2->tiledbsoma<2.0.0,>=1.7.2->pyTDC) (0.2.3)\n",
            "Requirement already satisfied: statsmodels>=0.14.5 in /usr/local/lib/python3.12/dist-packages (from scanpy>=1.9.2->tiledbsoma<2.0.0,>=1.7.2->pyTDC) (0.14.5)\n",
            "Requirement already satisfied: umap-learn>=0.5.6 in /usr/local/lib/python3.12/dist-packages (from scanpy>=1.9.2->tiledbsoma<2.0.0,>=1.7.2->pyTDC) (0.5.7)\n",
            "Requirement already satisfied: setuptools>=18.5 in /usr/local/lib/python3.12/dist-packages (from ipython->gget<1.0.0,>=0.28.4->pyTDC) (75.2.0)\n",
            "Requirement already satisfied: jedi>=0.16 in /usr/local/lib/python3.12/dist-packages (from ipython->gget<1.0.0,>=0.28.4->pyTDC) (0.19.2)\n",
            "Requirement already satisfied: decorator in /usr/local/lib/python3.12/dist-packages (from ipython->gget<1.0.0,>=0.28.4->pyTDC) (4.4.2)\n",
            "Requirement already satisfied: pickleshare in /usr/local/lib/python3.12/dist-packages (from ipython->gget<1.0.0,>=0.28.4->pyTDC) (0.7.5)\n",
            "Requirement already satisfied: traitlets>=4.2 in /usr/local/lib/python3.12/dist-packages (from ipython->gget<1.0.0,>=0.28.4->pyTDC) (5.7.1)\n",
            "Requirement already satisfied: prompt-toolkit!=3.0.0,!=3.0.1,<3.1.0,>=2.0.0 in /usr/local/lib/python3.12/dist-packages (from ipython->gget<1.0.0,>=0.28.4->pyTDC) (3.0.52)\n",
            "Requirement already satisfied: pygments in /usr/local/lib/python3.12/dist-packages (from ipython->gget<1.0.0,>=0.28.4->pyTDC) (2.19.2)\n",
            "Requirement already satisfied: backcall in /usr/local/lib/python3.12/dist-packages (from ipython->gget<1.0.0,>=0.28.4->pyTDC) (0.2.0)\n",
            "Requirement already satisfied: matplotlib-inline in /usr/local/lib/python3.12/dist-packages (from ipython->gget<1.0.0,>=0.28.4->pyTDC) (0.1.7)\n",
            "Requirement already satisfied: pexpect>4.3 in /usr/local/lib/python3.12/dist-packages (from ipython->gget<1.0.0,>=0.28.4->pyTDC) (4.9.0)\n",
            "Requirement already satisfied: ipykernel>=4.5.1 in /usr/local/lib/python3.12/dist-packages (from ipywidgets->gget<1.0.0,>=0.28.4->pyTDC) (6.17.1)\n",
            "Requirement already satisfied: ipython-genutils~=0.2.0 in /usr/local/lib/python3.12/dist-packages (from ipywidgets->gget<1.0.0,>=0.28.4->pyTDC) (0.2.0)\n",
            "Requirement already satisfied: widgetsnbextension~=3.6.0 in /usr/local/lib/python3.12/dist-packages (from ipywidgets->gget<1.0.0,>=0.28.4->pyTDC) (3.6.10)\n",
            "Requirement already satisfied: jupyterlab-widgets>=1.0.0 in /usr/local/lib/python3.12/dist-packages (from ipywidgets->gget<1.0.0,>=0.28.4->pyTDC) (3.0.15)\n",
            "Requirement already satisfied: aioitertools<1.0.0,>=0.5.1 in /usr/local/lib/python3.12/dist-packages (from aiobotocore<3.0.0,>=2.5.4->s3fs>=2021.06.1->cellxgene-census<2.0.0,>=1.10.2->pyTDC) (0.12.0)\n",
            "Requirement already satisfied: botocore<1.40.50,>=1.40.46 in /usr/local/lib/python3.12/dist-packages (from aiobotocore<3.0.0,>=2.5.4->s3fs>=2021.06.1->cellxgene-census<2.0.0,>=1.10.2->pyTDC) (1.40.49)\n",
            "Requirement already satisfied: jmespath<2.0.0,>=0.7.1 in /usr/local/lib/python3.12/dist-packages (from aiobotocore<3.0.0,>=2.5.4->s3fs>=2021.06.1->cellxgene-census<2.0.0,>=1.10.2->pyTDC) (1.0.1)\n",
            "Requirement already satisfied: multidict<7.0.0,>=6.0.0 in /usr/local/lib/python3.12/dist-packages (from aiobotocore<3.0.0,>=2.5.4->s3fs>=2021.06.1->cellxgene-census<2.0.0,>=1.10.2->pyTDC) (6.7.0)\n",
            "Requirement already satisfied: wrapt<2.0.0,>=1.10.10 in /usr/local/lib/python3.12/dist-packages (from aiobotocore<3.0.0,>=2.5.4->s3fs>=2021.06.1->cellxgene-census<2.0.0,>=1.10.2->pyTDC) (1.17.3)\n",
            "Requirement already satisfied: aiohappyeyeballs>=2.5.0 in /usr/local/lib/python3.12/dist-packages (from aiohttp!=4.0.0a0,!=4.0.0a1->s3fs>=2021.06.1->cellxgene-census<2.0.0,>=1.10.2->pyTDC) (2.6.1)\n",
            "Requirement already satisfied: aiosignal>=1.4.0 in /usr/local/lib/python3.12/dist-packages (from aiohttp!=4.0.0a0,!=4.0.0a1->s3fs>=2021.06.1->cellxgene-census<2.0.0,>=1.10.2->pyTDC) (1.4.0)\n",
            "Requirement already satisfied: frozenlist>=1.1.1 in /usr/local/lib/python3.12/dist-packages (from aiohttp!=4.0.0a0,!=4.0.0a1->s3fs>=2021.06.1->cellxgene-census<2.0.0,>=1.10.2->pyTDC) (1.8.0)\n",
            "Requirement already satisfied: propcache>=0.2.0 in /usr/local/lib/python3.12/dist-packages (from aiohttp!=4.0.0a0,!=4.0.0a1->s3fs>=2021.06.1->cellxgene-census<2.0.0,>=1.10.2->pyTDC) (0.3.2)\n",
            "Requirement already satisfied: yarl<2.0,>=1.17.0 in /usr/local/lib/python3.12/dist-packages (from aiohttp!=4.0.0a0,!=4.0.0a1->s3fs>=2021.06.1->cellxgene-census<2.0.0,>=1.10.2->pyTDC) (1.22.0)\n",
            "Requirement already satisfied: anyio in /usr/local/lib/python3.12/dist-packages (from httpx>=0.22.0->biothings-client>=0.2.6->mygene<4.0.0,>=3.2.2->pyTDC) (4.11.0)\n",
            "Requirement already satisfied: httpcore==1.* in /usr/local/lib/python3.12/dist-packages (from httpx>=0.22.0->biothings-client>=0.2.6->mygene<4.0.0,>=3.2.2->pyTDC) (1.0.9)\n",
            "Requirement already satisfied: h11>=0.16 in /usr/local/lib/python3.12/dist-packages (from httpcore==1.*->httpx>=0.22.0->biothings-client>=0.2.6->mygene<4.0.0,>=3.2.2->pyTDC) (0.16.0)\n",
            "Requirement already satisfied: debugpy>=1.0 in /usr/local/lib/python3.12/dist-packages (from ipykernel>=4.5.1->ipywidgets->gget<1.0.0,>=0.28.4->pyTDC) (1.8.15)\n",
            "Requirement already satisfied: jupyter-client>=6.1.12 in /usr/local/lib/python3.12/dist-packages (from ipykernel>=4.5.1->ipywidgets->gget<1.0.0,>=0.28.4->pyTDC) (7.4.9)\n",
            "Requirement already satisfied: nest-asyncio in /usr/local/lib/python3.12/dist-packages (from ipykernel>=4.5.1->ipywidgets->gget<1.0.0,>=0.28.4->pyTDC) (1.6.0)\n",
            "Requirement already satisfied: psutil in /usr/local/lib/python3.12/dist-packages (from ipykernel>=4.5.1->ipywidgets->gget<1.0.0,>=0.28.4->pyTDC) (5.9.5)\n",
            "Requirement already satisfied: pyzmq>=17 in /usr/local/lib/python3.12/dist-packages (from ipykernel>=4.5.1->ipywidgets->gget<1.0.0,>=0.28.4->pyTDC) (26.2.1)\n",
            "Requirement already satisfied: tornado>=6.1 in /usr/local/lib/python3.12/dist-packages (from ipykernel>=4.5.1->ipywidgets->gget<1.0.0,>=0.28.4->pyTDC) (6.4.2)\n",
            "Requirement already satisfied: parso<0.9.0,>=0.8.4 in /usr/local/lib/python3.12/dist-packages (from jedi>=0.16->ipython->gget<1.0.0,>=0.28.4->pyTDC) (0.8.5)\n",
            "Requirement already satisfied: llvmlite<0.44,>=0.43.0dev0 in /usr/local/lib/python3.12/dist-packages (from numba>=0.57.1->scanpy>=1.9.2->tiledbsoma<2.0.0,>=1.7.2->pyTDC) (0.43.0)\n",
            "Requirement already satisfied: ptyprocess>=0.5 in /usr/local/lib/python3.12/dist-packages (from pexpect>4.3->ipython->gget<1.0.0,>=0.28.4->pyTDC) (0.7.0)\n",
            "Requirement already satisfied: wcwidth in /usr/local/lib/python3.12/dist-packages (from prompt-toolkit!=3.0.0,!=3.0.1,<3.1.0,>=2.0.0->ipython->gget<1.0.0,>=0.28.4->pyTDC) (0.2.14)\n",
            "Requirement already satisfied: notebook>=4.4.1 in /usr/local/lib/python3.12/dist-packages (from widgetsnbextension~=3.6.0->ipywidgets->gget<1.0.0,>=0.28.4->pyTDC) (6.5.7)\n",
            "Requirement already satisfied: donfig>=0.8 in /usr/local/lib/python3.12/dist-packages (from zarr!=3.0.*,>=2.18.7->anndata->cellxgene-census<2.0.0,>=1.10.2->pyTDC) (0.8.1.post1)\n",
            "Requirement already satisfied: numcodecs>=0.14 in /usr/local/lib/python3.12/dist-packages (from numcodecs[crc32c]>=0.14->zarr!=3.0.*,>=2.18.7->anndata->cellxgene-census<2.0.0,>=1.10.2->pyTDC) (0.16.3)\n",
            "Requirement already satisfied: entrypoints in /usr/local/lib/python3.12/dist-packages (from jupyter-client>=6.1.12->ipykernel>=4.5.1->ipywidgets->gget<1.0.0,>=0.28.4->pyTDC) (0.4)\n",
            "Requirement already satisfied: jupyter-core>=4.9.2 in /usr/local/lib/python3.12/dist-packages (from jupyter-client>=6.1.12->ipykernel>=4.5.1->ipywidgets->gget<1.0.0,>=0.28.4->pyTDC) (5.8.1)\n",
            "Requirement already satisfied: jinja2 in /usr/local/lib/python3.12/dist-packages (from notebook>=4.4.1->widgetsnbextension~=3.6.0->ipywidgets->gget<1.0.0,>=0.28.4->pyTDC) (3.1.6)\n",
            "Requirement already satisfied: argon2-cffi in /usr/local/lib/python3.12/dist-packages (from notebook>=4.4.1->widgetsnbextension~=3.6.0->ipywidgets->gget<1.0.0,>=0.28.4->pyTDC) (25.1.0)\n",
            "Requirement already satisfied: nbformat in /usr/local/lib/python3.12/dist-packages (from notebook>=4.4.1->widgetsnbextension~=3.6.0->ipywidgets->gget<1.0.0,>=0.28.4->pyTDC) (5.10.4)\n",
            "Requirement already satisfied: nbconvert>=5 in /usr/local/lib/python3.12/dist-packages (from notebook>=4.4.1->widgetsnbextension~=3.6.0->ipywidgets->gget<1.0.0,>=0.28.4->pyTDC) (7.16.6)\n",
            "Requirement already satisfied: Send2Trash>=1.8.0 in /usr/local/lib/python3.12/dist-packages (from notebook>=4.4.1->widgetsnbextension~=3.6.0->ipywidgets->gget<1.0.0,>=0.28.4->pyTDC) (1.8.3)\n",
            "Requirement already satisfied: terminado>=0.8.3 in /usr/local/lib/python3.12/dist-packages (from notebook>=4.4.1->widgetsnbextension~=3.6.0->ipywidgets->gget<1.0.0,>=0.28.4->pyTDC) (0.18.1)\n",
            "Requirement already satisfied: prometheus-client in /usr/local/lib/python3.12/dist-packages (from notebook>=4.4.1->widgetsnbextension~=3.6.0->ipywidgets->gget<1.0.0,>=0.28.4->pyTDC) (0.23.1)\n",
            "Requirement already satisfied: nbclassic>=0.4.7 in /usr/local/lib/python3.12/dist-packages (from notebook>=4.4.1->widgetsnbextension~=3.6.0->ipywidgets->gget<1.0.0,>=0.28.4->pyTDC) (1.3.3)\n",
            "Requirement already satisfied: crc32c>=2.7 in /usr/local/lib/python3.12/dist-packages (from numcodecs[crc32c]>=0.14->zarr!=3.0.*,>=2.18.7->anndata->cellxgene-census<2.0.0,>=1.10.2->pyTDC) (2.7.1.post0)\n",
            "Requirement already satisfied: sniffio>=1.1 in /usr/local/lib/python3.12/dist-packages (from anyio->httpx>=0.22.0->biothings-client>=0.2.6->mygene<4.0.0,>=3.2.2->pyTDC) (1.3.1)\n",
            "Requirement already satisfied: notebook-shim>=0.2.3 in /usr/local/lib/python3.12/dist-packages (from nbclassic>=0.4.7->notebook>=4.4.1->widgetsnbextension~=3.6.0->ipywidgets->gget<1.0.0,>=0.28.4->pyTDC) (0.2.4)\n",
            "Requirement already satisfied: bleach!=5.0.0 in /usr/local/lib/python3.12/dist-packages (from bleach[css]!=5.0.0->nbconvert>=5->notebook>=4.4.1->widgetsnbextension~=3.6.0->ipywidgets->gget<1.0.0,>=0.28.4->pyTDC) (6.2.0)\n",
            "Requirement already satisfied: defusedxml in /usr/local/lib/python3.12/dist-packages (from nbconvert>=5->notebook>=4.4.1->widgetsnbextension~=3.6.0->ipywidgets->gget<1.0.0,>=0.28.4->pyTDC) (0.7.1)\n",
            "Requirement already satisfied: jupyterlab-pygments in /usr/local/lib/python3.12/dist-packages (from nbconvert>=5->notebook>=4.4.1->widgetsnbextension~=3.6.0->ipywidgets->gget<1.0.0,>=0.28.4->pyTDC) (0.3.0)\n",
            "Requirement already satisfied: markupsafe>=2.0 in /usr/local/lib/python3.12/dist-packages (from nbconvert>=5->notebook>=4.4.1->widgetsnbextension~=3.6.0->ipywidgets->gget<1.0.0,>=0.28.4->pyTDC) (3.0.3)\n",
            "Requirement already satisfied: mistune<4,>=2.0.3 in /usr/local/lib/python3.12/dist-packages (from nbconvert>=5->notebook>=4.4.1->widgetsnbextension~=3.6.0->ipywidgets->gget<1.0.0,>=0.28.4->pyTDC) (3.1.4)\n",
            "Requirement already satisfied: nbclient>=0.5.0 in /usr/local/lib/python3.12/dist-packages (from nbconvert>=5->notebook>=4.4.1->widgetsnbextension~=3.6.0->ipywidgets->gget<1.0.0,>=0.28.4->pyTDC) (0.10.2)\n",
            "Requirement already satisfied: pandocfilters>=1.4.1 in /usr/local/lib/python3.12/dist-packages (from nbconvert>=5->notebook>=4.4.1->widgetsnbextension~=3.6.0->ipywidgets->gget<1.0.0,>=0.28.4->pyTDC) (1.5.1)\n",
            "Requirement already satisfied: fastjsonschema>=2.15 in /usr/local/lib/python3.12/dist-packages (from nbformat->notebook>=4.4.1->widgetsnbextension~=3.6.0->ipywidgets->gget<1.0.0,>=0.28.4->pyTDC) (2.21.2)\n",
            "Requirement already satisfied: jsonschema>=2.6 in /usr/local/lib/python3.12/dist-packages (from nbformat->notebook>=4.4.1->widgetsnbextension~=3.6.0->ipywidgets->gget<1.0.0,>=0.28.4->pyTDC) (4.25.1)\n",
            "Requirement already satisfied: argon2-cffi-bindings in /usr/local/lib/python3.12/dist-packages (from argon2-cffi->notebook>=4.4.1->widgetsnbextension~=3.6.0->ipywidgets->gget<1.0.0,>=0.28.4->pyTDC) (25.1.0)\n",
            "Requirement already satisfied: webencodings in /usr/local/lib/python3.12/dist-packages (from bleach!=5.0.0->bleach[css]!=5.0.0->nbconvert>=5->notebook>=4.4.1->widgetsnbextension~=3.6.0->ipywidgets->gget<1.0.0,>=0.28.4->pyTDC) (0.5.1)\n",
            "Requirement already satisfied: tinycss2<1.5,>=1.1.0 in /usr/local/lib/python3.12/dist-packages (from bleach[css]!=5.0.0->nbconvert>=5->notebook>=4.4.1->widgetsnbextension~=3.6.0->ipywidgets->gget<1.0.0,>=0.28.4->pyTDC) (1.4.0)\n",
            "Requirement already satisfied: jsonschema-specifications>=2023.03.6 in /usr/local/lib/python3.12/dist-packages (from jsonschema>=2.6->nbformat->notebook>=4.4.1->widgetsnbextension~=3.6.0->ipywidgets->gget<1.0.0,>=0.28.4->pyTDC) (2025.9.1)\n",
            "Requirement already satisfied: referencing>=0.28.4 in /usr/local/lib/python3.12/dist-packages (from jsonschema>=2.6->nbformat->notebook>=4.4.1->widgetsnbextension~=3.6.0->ipywidgets->gget<1.0.0,>=0.28.4->pyTDC) (0.36.2)\n",
            "Requirement already satisfied: rpds-py>=0.7.1 in /usr/local/lib/python3.12/dist-packages (from jsonschema>=2.6->nbformat->notebook>=4.4.1->widgetsnbextension~=3.6.0->ipywidgets->gget<1.0.0,>=0.28.4->pyTDC) (0.27.1)\n",
            "Requirement already satisfied: jupyter-server<3,>=1.8 in /usr/local/lib/python3.12/dist-packages (from notebook-shim>=0.2.3->nbclassic>=0.4.7->notebook>=4.4.1->widgetsnbextension~=3.6.0->ipywidgets->gget<1.0.0,>=0.28.4->pyTDC) (2.14.0)\n",
            "Requirement already satisfied: cffi>=1.0.1 in /usr/local/lib/python3.12/dist-packages (from argon2-cffi-bindings->argon2-cffi->notebook>=4.4.1->widgetsnbextension~=3.6.0->ipywidgets->gget<1.0.0,>=0.28.4->pyTDC) (2.0.0)\n",
            "Requirement already satisfied: pycparser in /usr/local/lib/python3.12/dist-packages (from cffi>=1.0.1->argon2-cffi-bindings->argon2-cffi->notebook>=4.4.1->widgetsnbextension~=3.6.0->ipywidgets->gget<1.0.0,>=0.28.4->pyTDC) (2.23)\n",
            "Requirement already satisfied: jupyter-events>=0.9.0 in /usr/local/lib/python3.12/dist-packages (from jupyter-server<3,>=1.8->notebook-shim>=0.2.3->nbclassic>=0.4.7->notebook>=4.4.1->widgetsnbextension~=3.6.0->ipywidgets->gget<1.0.0,>=0.28.4->pyTDC) (0.12.0)\n",
            "Requirement already satisfied: jupyter-server-terminals>=0.4.4 in /usr/local/lib/python3.12/dist-packages (from jupyter-server<3,>=1.8->notebook-shim>=0.2.3->nbclassic>=0.4.7->notebook>=4.4.1->widgetsnbextension~=3.6.0->ipywidgets->gget<1.0.0,>=0.28.4->pyTDC) (0.5.3)\n",
            "Requirement already satisfied: overrides>=5.0 in /usr/local/lib/python3.12/dist-packages (from jupyter-server<3,>=1.8->notebook-shim>=0.2.3->nbclassic>=0.4.7->notebook>=4.4.1->widgetsnbextension~=3.6.0->ipywidgets->gget<1.0.0,>=0.28.4->pyTDC) (7.7.0)\n",
            "Requirement already satisfied: websocket-client>=1.7 in /usr/local/lib/python3.12/dist-packages (from jupyter-server<3,>=1.8->notebook-shim>=0.2.3->nbclassic>=0.4.7->notebook>=4.4.1->widgetsnbextension~=3.6.0->ipywidgets->gget<1.0.0,>=0.28.4->pyTDC) (1.9.0)\n",
            "Requirement already satisfied: python-json-logger>=2.0.4 in /usr/local/lib/python3.12/dist-packages (from jupyter-events>=0.9.0->jupyter-server<3,>=1.8->notebook-shim>=0.2.3->nbclassic>=0.4.7->notebook>=4.4.1->widgetsnbextension~=3.6.0->ipywidgets->gget<1.0.0,>=0.28.4->pyTDC) (4.0.0)\n",
            "Requirement already satisfied: rfc3339-validator in /usr/local/lib/python3.12/dist-packages (from jupyter-events>=0.9.0->jupyter-server<3,>=1.8->notebook-shim>=0.2.3->nbclassic>=0.4.7->notebook>=4.4.1->widgetsnbextension~=3.6.0->ipywidgets->gget<1.0.0,>=0.28.4->pyTDC) (0.1.4)\n",
            "Requirement already satisfied: rfc3986-validator>=0.1.1 in /usr/local/lib/python3.12/dist-packages (from jupyter-events>=0.9.0->jupyter-server<3,>=1.8->notebook-shim>=0.2.3->nbclassic>=0.4.7->notebook>=4.4.1->widgetsnbextension~=3.6.0->ipywidgets->gget<1.0.0,>=0.28.4->pyTDC) (0.1.1)\n",
            "Requirement already satisfied: fqdn in /usr/local/lib/python3.12/dist-packages (from jsonschema[format-nongpl]>=4.18.0->jupyter-events>=0.9.0->jupyter-server<3,>=1.8->notebook-shim>=0.2.3->nbclassic>=0.4.7->notebook>=4.4.1->widgetsnbextension~=3.6.0->ipywidgets->gget<1.0.0,>=0.28.4->pyTDC) (1.5.1)\n",
            "Requirement already satisfied: isoduration in /usr/local/lib/python3.12/dist-packages (from jsonschema[format-nongpl]>=4.18.0->jupyter-events>=0.9.0->jupyter-server<3,>=1.8->notebook-shim>=0.2.3->nbclassic>=0.4.7->notebook>=4.4.1->widgetsnbextension~=3.6.0->ipywidgets->gget<1.0.0,>=0.28.4->pyTDC) (20.11.0)\n",
            "Requirement already satisfied: jsonpointer>1.13 in /usr/local/lib/python3.12/dist-packages (from jsonschema[format-nongpl]>=4.18.0->jupyter-events>=0.9.0->jupyter-server<3,>=1.8->notebook-shim>=0.2.3->nbclassic>=0.4.7->notebook>=4.4.1->widgetsnbextension~=3.6.0->ipywidgets->gget<1.0.0,>=0.28.4->pyTDC) (3.0.0)\n",
            "Requirement already satisfied: rfc3987-syntax>=1.1.0 in /usr/local/lib/python3.12/dist-packages (from jsonschema[format-nongpl]>=4.18.0->jupyter-events>=0.9.0->jupyter-server<3,>=1.8->notebook-shim>=0.2.3->nbclassic>=0.4.7->notebook>=4.4.1->widgetsnbextension~=3.6.0->ipywidgets->gget<1.0.0,>=0.28.4->pyTDC) (1.1.0)\n",
            "Requirement already satisfied: uri-template in /usr/local/lib/python3.12/dist-packages (from jsonschema[format-nongpl]>=4.18.0->jupyter-events>=0.9.0->jupyter-server<3,>=1.8->notebook-shim>=0.2.3->nbclassic>=0.4.7->notebook>=4.4.1->widgetsnbextension~=3.6.0->ipywidgets->gget<1.0.0,>=0.28.4->pyTDC) (1.3.0)\n",
            "Requirement already satisfied: webcolors>=24.6.0 in /usr/local/lib/python3.12/dist-packages (from jsonschema[format-nongpl]>=4.18.0->jupyter-events>=0.9.0->jupyter-server<3,>=1.8->notebook-shim>=0.2.3->nbclassic>=0.4.7->notebook>=4.4.1->widgetsnbextension~=3.6.0->ipywidgets->gget<1.0.0,>=0.28.4->pyTDC) (24.11.1)\n",
            "Requirement already satisfied: lark>=1.2.2 in /usr/local/lib/python3.12/dist-packages (from rfc3987-syntax>=1.1.0->jsonschema[format-nongpl]>=4.18.0->jupyter-events>=0.9.0->jupyter-server<3,>=1.8->notebook-shim>=0.2.3->nbclassic>=0.4.7->notebook>=4.4.1->widgetsnbextension~=3.6.0->ipywidgets->gget<1.0.0,>=0.28.4->pyTDC) (1.3.0)\n",
            "Requirement already satisfied: arrow>=0.15.0 in /usr/local/lib/python3.12/dist-packages (from isoduration->jsonschema[format-nongpl]>=4.18.0->jupyter-events>=0.9.0->jupyter-server<3,>=1.8->notebook-shim>=0.2.3->nbclassic>=0.4.7->notebook>=4.4.1->widgetsnbextension~=3.6.0->ipywidgets->gget<1.0.0,>=0.28.4->pyTDC) (1.3.0)\n",
            "Requirement already satisfied: types-python-dateutil>=2.8.10 in /usr/local/lib/python3.12/dist-packages (from arrow>=0.15.0->isoduration->jsonschema[format-nongpl]>=4.18.0->jupyter-events>=0.9.0->jupyter-server<3,>=1.8->notebook-shim>=0.2.3->nbclassic>=0.4.7->notebook>=4.4.1->widgetsnbextension~=3.6.0->ipywidgets->gget<1.0.0,>=0.28.4->pyTDC) (2.9.0.20251008)\n"
          ]
        }
      ],
      "source": [
        "!pip install rdkit\n",
        "!pip install pyTDC"
      ]
    },
    {
      "cell_type": "code",
      "execution_count": 2,
      "metadata": {
        "colab": {
          "base_uri": "https://localhost:8080/"
        },
        "id": "b7Cu-z86JlZ0",
        "outputId": "f20b6052-980d-43bc-b271-dacd0518d744"
      },
      "outputs": [
        {
          "name": "stderr",
          "output_type": "stream",
          "text": [
            "Downloading...\n",
            "100%|██████████| 96.6M/96.6M [00:02<00:00, 34.5MiB/s]\n",
            "Loading...\n",
            "Done!\n"
          ]
        }
      ],
      "source": [
        "from tdc.multi_pred import DTI\n",
        "data = DTI(name = 'KIBA')\n",
        "df = data.get_data() # contains columns: Drug, Target, Y, SMILES, Sequence"
      ]
    },
    {
      "cell_type": "code",
      "execution_count": 3,
      "metadata": {
        "colab": {
          "base_uri": "https://localhost:8080/",
          "height": 424
        },
        "id": "-Gq3HicLQeJN",
        "outputId": "d5d32084-7e9c-4470-8a7e-b9d3b53197a8"
      },
      "outputs": [
        {
          "data": {
            "application/vnd.google.colaboratory.intrinsic+json": {
              "type": "dataframe",
              "variable_name": "df"
            },
            "text/html": [
              "\n",
              "  <div id=\"df-1e429e2e-0e6e-4c88-a051-d6ab9a673fe6\" class=\"colab-df-container\">\n",
              "    <div>\n",
              "<style scoped>\n",
              "    .dataframe tbody tr th:only-of-type {\n",
              "        vertical-align: middle;\n",
              "    }\n",
              "\n",
              "    .dataframe tbody tr th {\n",
              "        vertical-align: top;\n",
              "    }\n",
              "\n",
              "    .dataframe thead th {\n",
              "        text-align: right;\n",
              "    }\n",
              "</style>\n",
              "<table border=\"1\" class=\"dataframe\">\n",
              "  <thead>\n",
              "    <tr style=\"text-align: right;\">\n",
              "      <th></th>\n",
              "      <th>Drug_ID</th>\n",
              "      <th>Drug</th>\n",
              "      <th>Target_ID</th>\n",
              "      <th>Target</th>\n",
              "      <th>Y</th>\n",
              "    </tr>\n",
              "  </thead>\n",
              "  <tbody>\n",
              "    <tr>\n",
              "      <th>0</th>\n",
              "      <td>CHEMBL1087421</td>\n",
              "      <td>COc1cc2c(cc1Cl)C(c1ccc(Cl)c(Cl)c1)=NCC2</td>\n",
              "      <td>O00141</td>\n",
              "      <td>MTVKTEAAKGTLTYSRMRGMVAILIAFMKQRRMGLNDFIQKIANNS...</td>\n",
              "      <td>11.10000</td>\n",
              "    </tr>\n",
              "    <tr>\n",
              "      <th>1</th>\n",
              "      <td>CHEMBL1087421</td>\n",
              "      <td>COc1cc2c(cc1Cl)C(c1ccc(Cl)c(Cl)c1)=NCC2</td>\n",
              "      <td>O14920</td>\n",
              "      <td>MSWSPSLTTQTCGAWEMKERLGTGGFGNVIRWHNQETGEQIAIKQC...</td>\n",
              "      <td>11.10000</td>\n",
              "    </tr>\n",
              "    <tr>\n",
              "      <th>2</th>\n",
              "      <td>CHEMBL1087421</td>\n",
              "      <td>COc1cc2c(cc1Cl)C(c1ccc(Cl)c(Cl)c1)=NCC2</td>\n",
              "      <td>O15111</td>\n",
              "      <td>MERPPGLRPGAGGPWEMRERLGTGGFGNVCLYQHRELDLKIAIKSC...</td>\n",
              "      <td>11.10000</td>\n",
              "    </tr>\n",
              "    <tr>\n",
              "      <th>3</th>\n",
              "      <td>CHEMBL1087421</td>\n",
              "      <td>COc1cc2c(cc1Cl)C(c1ccc(Cl)c(Cl)c1)=NCC2</td>\n",
              "      <td>P00533</td>\n",
              "      <td>MRPSGTAGAALLALLAALCPASRALEEKKVCQGTSNKLTQLGTFED...</td>\n",
              "      <td>11.10000</td>\n",
              "    </tr>\n",
              "    <tr>\n",
              "      <th>4</th>\n",
              "      <td>CHEMBL1087421</td>\n",
              "      <td>COc1cc2c(cc1Cl)C(c1ccc(Cl)c(Cl)c1)=NCC2</td>\n",
              "      <td>P04626</td>\n",
              "      <td>MELAALCRWGLLLALLPPGAASTQVCTGTDMKLRLPASPETHLDML...</td>\n",
              "      <td>11.10000</td>\n",
              "    </tr>\n",
              "    <tr>\n",
              "      <th>...</th>\n",
              "      <td>...</td>\n",
              "      <td>...</td>\n",
              "      <td>...</td>\n",
              "      <td>...</td>\n",
              "      <td>...</td>\n",
              "    </tr>\n",
              "    <tr>\n",
              "      <th>117652</th>\n",
              "      <td>CHEMBL230654</td>\n",
              "      <td>CCCc1nc[nH]c1CNc1cc(Cl)c2ncc(C#N)c(Nc3ccc(F)c(...</td>\n",
              "      <td>Q13554</td>\n",
              "      <td>MATTVTCTRFTDEYQLYEDIGKGAFSVVRRCVKLCTGHEYAAKIIN...</td>\n",
              "      <td>10.49794</td>\n",
              "    </tr>\n",
              "    <tr>\n",
              "      <th>117653</th>\n",
              "      <td>CHEMBL230654</td>\n",
              "      <td>CCCc1nc[nH]c1CNc1cc(Cl)c2ncc(C#N)c(Nc3ccc(F)c(...</td>\n",
              "      <td>Q13555</td>\n",
              "      <td>MATTATCTRFTDDYQLFEELGKGAFSVVRRCVKKTSTQEYAAKIIN...</td>\n",
              "      <td>10.49794</td>\n",
              "    </tr>\n",
              "    <tr>\n",
              "      <th>117654</th>\n",
              "      <td>CHEMBL230654</td>\n",
              "      <td>CCCc1nc[nH]c1CNc1cc(Cl)c2ncc(C#N)c(Nc3ccc(F)c(...</td>\n",
              "      <td>Q13557</td>\n",
              "      <td>MASTTTCTRFTDEYQLFEELGKGAFSVVRRCMKIPTGQEYAAKIIN...</td>\n",
              "      <td>10.49794</td>\n",
              "    </tr>\n",
              "    <tr>\n",
              "      <th>117655</th>\n",
              "      <td>CHEMBL230654</td>\n",
              "      <td>CCCc1nc[nH]c1CNc1cc(Cl)c2ncc(C#N)c(Nc3ccc(F)c(...</td>\n",
              "      <td>Q16539</td>\n",
              "      <td>MSQERPTFYRQELNKTIWEVPERYQNLSPVGSGAYGSVCAAFDTKT...</td>\n",
              "      <td>10.49794</td>\n",
              "    </tr>\n",
              "    <tr>\n",
              "      <th>117656</th>\n",
              "      <td>CHEMBL230654</td>\n",
              "      <td>CCCc1nc[nH]c1CNc1cc(Cl)c2ncc(C#N)c(Nc3ccc(F)c(...</td>\n",
              "      <td>Q9UQM7</td>\n",
              "      <td>MATITCTRFTEEYQLFEELGKGAFSVVRRCVKVLAGQEYAAKIINT...</td>\n",
              "      <td>10.49794</td>\n",
              "    </tr>\n",
              "  </tbody>\n",
              "</table>\n",
              "<p>117657 rows × 5 columns</p>\n",
              "</div>\n",
              "    <div class=\"colab-df-buttons\">\n",
              "\n",
              "  <div class=\"colab-df-container\">\n",
              "    <button class=\"colab-df-convert\" onclick=\"convertToInteractive('df-1e429e2e-0e6e-4c88-a051-d6ab9a673fe6')\"\n",
              "            title=\"Convert this dataframe to an interactive table.\"\n",
              "            style=\"display:none;\">\n",
              "\n",
              "  <svg xmlns=\"http://www.w3.org/2000/svg\" height=\"24px\" viewBox=\"0 -960 960 960\">\n",
              "    <path d=\"M120-120v-720h720v720H120Zm60-500h600v-160H180v160Zm220 220h160v-160H400v160Zm0 220h160v-160H400v160ZM180-400h160v-160H180v160Zm440 0h160v-160H620v160ZM180-180h160v-160H180v160Zm440 0h160v-160H620v160Z\"/>\n",
              "  </svg>\n",
              "    </button>\n",
              "\n",
              "  <style>\n",
              "    .colab-df-container {\n",
              "      display:flex;\n",
              "      gap: 12px;\n",
              "    }\n",
              "\n",
              "    .colab-df-convert {\n",
              "      background-color: #E8F0FE;\n",
              "      border: none;\n",
              "      border-radius: 50%;\n",
              "      cursor: pointer;\n",
              "      display: none;\n",
              "      fill: #1967D2;\n",
              "      height: 32px;\n",
              "      padding: 0 0 0 0;\n",
              "      width: 32px;\n",
              "    }\n",
              "\n",
              "    .colab-df-convert:hover {\n",
              "      background-color: #E2EBFA;\n",
              "      box-shadow: 0px 1px 2px rgba(60, 64, 67, 0.3), 0px 1px 3px 1px rgba(60, 64, 67, 0.15);\n",
              "      fill: #174EA6;\n",
              "    }\n",
              "\n",
              "    .colab-df-buttons div {\n",
              "      margin-bottom: 4px;\n",
              "    }\n",
              "\n",
              "    [theme=dark] .colab-df-convert {\n",
              "      background-color: #3B4455;\n",
              "      fill: #D2E3FC;\n",
              "    }\n",
              "\n",
              "    [theme=dark] .colab-df-convert:hover {\n",
              "      background-color: #434B5C;\n",
              "      box-shadow: 0px 1px 3px 1px rgba(0, 0, 0, 0.15);\n",
              "      filter: drop-shadow(0px 1px 2px rgba(0, 0, 0, 0.3));\n",
              "      fill: #FFFFFF;\n",
              "    }\n",
              "  </style>\n",
              "\n",
              "    <script>\n",
              "      const buttonEl =\n",
              "        document.querySelector('#df-1e429e2e-0e6e-4c88-a051-d6ab9a673fe6 button.colab-df-convert');\n",
              "      buttonEl.style.display =\n",
              "        google.colab.kernel.accessAllowed ? 'block' : 'none';\n",
              "\n",
              "      async function convertToInteractive(key) {\n",
              "        const element = document.querySelector('#df-1e429e2e-0e6e-4c88-a051-d6ab9a673fe6');\n",
              "        const dataTable =\n",
              "          await google.colab.kernel.invokeFunction('convertToInteractive',\n",
              "                                                    [key], {});\n",
              "        if (!dataTable) return;\n",
              "\n",
              "        const docLinkHtml = 'Like what you see? Visit the ' +\n",
              "          '<a target=\"_blank\" href=https://colab.research.google.com/notebooks/data_table.ipynb>data table notebook</a>'\n",
              "          + ' to learn more about interactive tables.';\n",
              "        element.innerHTML = '';\n",
              "        dataTable['output_type'] = 'display_data';\n",
              "        await google.colab.output.renderOutput(dataTable, element);\n",
              "        const docLink = document.createElement('div');\n",
              "        docLink.innerHTML = docLinkHtml;\n",
              "        element.appendChild(docLink);\n",
              "      }\n",
              "    </script>\n",
              "  </div>\n",
              "\n",
              "\n",
              "    <div id=\"df-b9156306-8954-4b03-86c9-4bb8b745910d\">\n",
              "      <button class=\"colab-df-quickchart\" onclick=\"quickchart('df-b9156306-8954-4b03-86c9-4bb8b745910d')\"\n",
              "                title=\"Suggest charts\"\n",
              "                style=\"display:none;\">\n",
              "\n",
              "<svg xmlns=\"http://www.w3.org/2000/svg\" height=\"24px\"viewBox=\"0 0 24 24\"\n",
              "     width=\"24px\">\n",
              "    <g>\n",
              "        <path d=\"M19 3H5c-1.1 0-2 .9-2 2v14c0 1.1.9 2 2 2h14c1.1 0 2-.9 2-2V5c0-1.1-.9-2-2-2zM9 17H7v-7h2v7zm4 0h-2V7h2v10zm4 0h-2v-4h2v4z\"/>\n",
              "    </g>\n",
              "</svg>\n",
              "      </button>\n",
              "\n",
              "<style>\n",
              "  .colab-df-quickchart {\n",
              "      --bg-color: #E8F0FE;\n",
              "      --fill-color: #1967D2;\n",
              "      --hover-bg-color: #E2EBFA;\n",
              "      --hover-fill-color: #174EA6;\n",
              "      --disabled-fill-color: #AAA;\n",
              "      --disabled-bg-color: #DDD;\n",
              "  }\n",
              "\n",
              "  [theme=dark] .colab-df-quickchart {\n",
              "      --bg-color: #3B4455;\n",
              "      --fill-color: #D2E3FC;\n",
              "      --hover-bg-color: #434B5C;\n",
              "      --hover-fill-color: #FFFFFF;\n",
              "      --disabled-bg-color: #3B4455;\n",
              "      --disabled-fill-color: #666;\n",
              "  }\n",
              "\n",
              "  .colab-df-quickchart {\n",
              "    background-color: var(--bg-color);\n",
              "    border: none;\n",
              "    border-radius: 50%;\n",
              "    cursor: pointer;\n",
              "    display: none;\n",
              "    fill: var(--fill-color);\n",
              "    height: 32px;\n",
              "    padding: 0;\n",
              "    width: 32px;\n",
              "  }\n",
              "\n",
              "  .colab-df-quickchart:hover {\n",
              "    background-color: var(--hover-bg-color);\n",
              "    box-shadow: 0 1px 2px rgba(60, 64, 67, 0.3), 0 1px 3px 1px rgba(60, 64, 67, 0.15);\n",
              "    fill: var(--button-hover-fill-color);\n",
              "  }\n",
              "\n",
              "  .colab-df-quickchart-complete:disabled,\n",
              "  .colab-df-quickchart-complete:disabled:hover {\n",
              "    background-color: var(--disabled-bg-color);\n",
              "    fill: var(--disabled-fill-color);\n",
              "    box-shadow: none;\n",
              "  }\n",
              "\n",
              "  .colab-df-spinner {\n",
              "    border: 2px solid var(--fill-color);\n",
              "    border-color: transparent;\n",
              "    border-bottom-color: var(--fill-color);\n",
              "    animation:\n",
              "      spin 1s steps(1) infinite;\n",
              "  }\n",
              "\n",
              "  @keyframes spin {\n",
              "    0% {\n",
              "      border-color: transparent;\n",
              "      border-bottom-color: var(--fill-color);\n",
              "      border-left-color: var(--fill-color);\n",
              "    }\n",
              "    20% {\n",
              "      border-color: transparent;\n",
              "      border-left-color: var(--fill-color);\n",
              "      border-top-color: var(--fill-color);\n",
              "    }\n",
              "    30% {\n",
              "      border-color: transparent;\n",
              "      border-left-color: var(--fill-color);\n",
              "      border-top-color: var(--fill-color);\n",
              "      border-right-color: var(--fill-color);\n",
              "    }\n",
              "    40% {\n",
              "      border-color: transparent;\n",
              "      border-right-color: var(--fill-color);\n",
              "      border-top-color: var(--fill-color);\n",
              "    }\n",
              "    60% {\n",
              "      border-color: transparent;\n",
              "      border-right-color: var(--fill-color);\n",
              "    }\n",
              "    80% {\n",
              "      border-color: transparent;\n",
              "      border-right-color: var(--fill-color);\n",
              "      border-bottom-color: var(--fill-color);\n",
              "    }\n",
              "    90% {\n",
              "      border-color: transparent;\n",
              "      border-bottom-color: var(--fill-color);\n",
              "    }\n",
              "  }\n",
              "</style>\n",
              "\n",
              "      <script>\n",
              "        async function quickchart(key) {\n",
              "          const quickchartButtonEl =\n",
              "            document.querySelector('#' + key + ' button');\n",
              "          quickchartButtonEl.disabled = true;  // To prevent multiple clicks.\n",
              "          quickchartButtonEl.classList.add('colab-df-spinner');\n",
              "          try {\n",
              "            const charts = await google.colab.kernel.invokeFunction(\n",
              "                'suggestCharts', [key], {});\n",
              "          } catch (error) {\n",
              "            console.error('Error during call to suggestCharts:', error);\n",
              "          }\n",
              "          quickchartButtonEl.classList.remove('colab-df-spinner');\n",
              "          quickchartButtonEl.classList.add('colab-df-quickchart-complete');\n",
              "        }\n",
              "        (() => {\n",
              "          let quickchartButtonEl =\n",
              "            document.querySelector('#df-b9156306-8954-4b03-86c9-4bb8b745910d button');\n",
              "          quickchartButtonEl.style.display =\n",
              "            google.colab.kernel.accessAllowed ? 'block' : 'none';\n",
              "        })();\n",
              "      </script>\n",
              "    </div>\n",
              "\n",
              "  <div id=\"id_47acbd83-4e58-4d4d-83be-3046fc4f993c\">\n",
              "    <style>\n",
              "      .colab-df-generate {\n",
              "        background-color: #E8F0FE;\n",
              "        border: none;\n",
              "        border-radius: 50%;\n",
              "        cursor: pointer;\n",
              "        display: none;\n",
              "        fill: #1967D2;\n",
              "        height: 32px;\n",
              "        padding: 0 0 0 0;\n",
              "        width: 32px;\n",
              "      }\n",
              "\n",
              "      .colab-df-generate:hover {\n",
              "        background-color: #E2EBFA;\n",
              "        box-shadow: 0px 1px 2px rgba(60, 64, 67, 0.3), 0px 1px 3px 1px rgba(60, 64, 67, 0.15);\n",
              "        fill: #174EA6;\n",
              "      }\n",
              "\n",
              "      [theme=dark] .colab-df-generate {\n",
              "        background-color: #3B4455;\n",
              "        fill: #D2E3FC;\n",
              "      }\n",
              "\n",
              "      [theme=dark] .colab-df-generate:hover {\n",
              "        background-color: #434B5C;\n",
              "        box-shadow: 0px 1px 3px 1px rgba(0, 0, 0, 0.15);\n",
              "        filter: drop-shadow(0px 1px 2px rgba(0, 0, 0, 0.3));\n",
              "        fill: #FFFFFF;\n",
              "      }\n",
              "    </style>\n",
              "    <button class=\"colab-df-generate\" onclick=\"generateWithVariable('df')\"\n",
              "            title=\"Generate code using this dataframe.\"\n",
              "            style=\"display:none;\">\n",
              "\n",
              "  <svg xmlns=\"http://www.w3.org/2000/svg\" height=\"24px\"viewBox=\"0 0 24 24\"\n",
              "       width=\"24px\">\n",
              "    <path d=\"M7,19H8.4L18.45,9,17,7.55,7,17.6ZM5,21V16.75L18.45,3.32a2,2,0,0,1,2.83,0l1.4,1.43a1.91,1.91,0,0,1,.58,1.4,1.91,1.91,0,0,1-.58,1.4L9.25,21ZM18.45,9,17,7.55Zm-12,3A5.31,5.31,0,0,0,4.9,8.1,5.31,5.31,0,0,0,1,6.5,5.31,5.31,0,0,0,4.9,4.9,5.31,5.31,0,0,0,6.5,1,5.31,5.31,0,0,0,8.1,4.9,5.31,5.31,0,0,0,12,6.5,5.46,5.46,0,0,0,6.5,12Z\"/>\n",
              "  </svg>\n",
              "    </button>\n",
              "    <script>\n",
              "      (() => {\n",
              "      const buttonEl =\n",
              "        document.querySelector('#id_47acbd83-4e58-4d4d-83be-3046fc4f993c button.colab-df-generate');\n",
              "      buttonEl.style.display =\n",
              "        google.colab.kernel.accessAllowed ? 'block' : 'none';\n",
              "\n",
              "      buttonEl.onclick = () => {\n",
              "        google.colab.notebook.generateWithVariable('df');\n",
              "      }\n",
              "      })();\n",
              "    </script>\n",
              "  </div>\n",
              "\n",
              "    </div>\n",
              "  </div>\n"
            ],
            "text/plain": [
              "              Drug_ID                                               Drug  \\\n",
              "0       CHEMBL1087421            COc1cc2c(cc1Cl)C(c1ccc(Cl)c(Cl)c1)=NCC2   \n",
              "1       CHEMBL1087421            COc1cc2c(cc1Cl)C(c1ccc(Cl)c(Cl)c1)=NCC2   \n",
              "2       CHEMBL1087421            COc1cc2c(cc1Cl)C(c1ccc(Cl)c(Cl)c1)=NCC2   \n",
              "3       CHEMBL1087421            COc1cc2c(cc1Cl)C(c1ccc(Cl)c(Cl)c1)=NCC2   \n",
              "4       CHEMBL1087421            COc1cc2c(cc1Cl)C(c1ccc(Cl)c(Cl)c1)=NCC2   \n",
              "...               ...                                                ...   \n",
              "117652   CHEMBL230654  CCCc1nc[nH]c1CNc1cc(Cl)c2ncc(C#N)c(Nc3ccc(F)c(...   \n",
              "117653   CHEMBL230654  CCCc1nc[nH]c1CNc1cc(Cl)c2ncc(C#N)c(Nc3ccc(F)c(...   \n",
              "117654   CHEMBL230654  CCCc1nc[nH]c1CNc1cc(Cl)c2ncc(C#N)c(Nc3ccc(F)c(...   \n",
              "117655   CHEMBL230654  CCCc1nc[nH]c1CNc1cc(Cl)c2ncc(C#N)c(Nc3ccc(F)c(...   \n",
              "117656   CHEMBL230654  CCCc1nc[nH]c1CNc1cc(Cl)c2ncc(C#N)c(Nc3ccc(F)c(...   \n",
              "\n",
              "       Target_ID                                             Target         Y  \n",
              "0         O00141  MTVKTEAAKGTLTYSRMRGMVAILIAFMKQRRMGLNDFIQKIANNS...  11.10000  \n",
              "1         O14920  MSWSPSLTTQTCGAWEMKERLGTGGFGNVIRWHNQETGEQIAIKQC...  11.10000  \n",
              "2         O15111  MERPPGLRPGAGGPWEMRERLGTGGFGNVCLYQHRELDLKIAIKSC...  11.10000  \n",
              "3         P00533  MRPSGTAGAALLALLAALCPASRALEEKKVCQGTSNKLTQLGTFED...  11.10000  \n",
              "4         P04626  MELAALCRWGLLLALLPPGAASTQVCTGTDMKLRLPASPETHLDML...  11.10000  \n",
              "...          ...                                                ...       ...  \n",
              "117652    Q13554  MATTVTCTRFTDEYQLYEDIGKGAFSVVRRCVKLCTGHEYAAKIIN...  10.49794  \n",
              "117653    Q13555  MATTATCTRFTDDYQLFEELGKGAFSVVRRCVKKTSTQEYAAKIIN...  10.49794  \n",
              "117654    Q13557  MASTTTCTRFTDEYQLFEELGKGAFSVVRRCMKIPTGQEYAAKIIN...  10.49794  \n",
              "117655    Q16539  MSQERPTFYRQELNKTIWEVPERYQNLSPVGSGAYGSVCAAFDTKT...  10.49794  \n",
              "117656    Q9UQM7  MATITCTRFTEEYQLFEELGKGAFSVVRRCVKVLAGQEYAAKIINT...  10.49794  \n",
              "\n",
              "[117657 rows x 5 columns]"
            ]
          },
          "execution_count": 3,
          "metadata": {},
          "output_type": "execute_result"
        }
      ],
      "source": [
        "df"
      ]
    },
    {
      "cell_type": "markdown",
      "metadata": {
        "id": "IWheF6_uRBRp"
      },
      "source": [
        "Our task is regression: given a drug-protein pair, predict the binding affinity score. As we can see right now the data is represented with every interaction as a row. We can also represent it as a matrix with missing values.\n",
        "\n",
        "The following figure shows the different multi-target prediction settings, depending on the goal of the project.\n",
        "\n",
        "In the first two sections we will look at Setting A, which is a a matrix-completion problem. Afterwards, we will look at settings where we want to predict the affinity for unseen drugs or proteins."
      ]
    },
    {
      "cell_type": "markdown",
      "metadata": {
        "id": "ybkG1LxYFqaL"
      },
      "source": [
        "![10618_2018_595_Fig2_HTML.webp](data:image/webp;base64,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)"
      ]
    },
    {
      "cell_type": "markdown",
      "metadata": {
        "id": "djrS8KRUQ4ID"
      },
      "source": [
        "# 1. Matrix Factorization (Singular Value Decomposition)\n",
        "A simple first approach is matrix factorization via SVD, which decomposes the interaction matrix into latent factors."
      ]
    },
    {
      "cell_type": "code",
      "execution_count": null,
      "metadata": {
        "colab": {
          "base_uri": "https://localhost:8080/"
        },
        "id": "7bydYz5_F5JI",
        "outputId": "3a9d1917-d4dd-46ab-b798-8ae9891f3566"
      },
      "outputs": [
        {
          "name": "stderr",
          "output_type": "stream",
          "text": [
            "Found local copy...\n",
            "Loading...\n",
            "Done!\n"
          ]
        }
      ],
      "source": [
        "import pandas as pd\n",
        "import numpy as np\n",
        "from tdc.multi_pred import DTI\n",
        "\n",
        "# Load data and get split from TDC\n",
        "data = DTI(name = 'KIBA')\n",
        "split = data.get_split()\n",
        "\n",
        "train_df = split['train']\n",
        "val_df = split['valid']\n",
        "test_df = split['test']"
      ]
    },
    {
      "cell_type": "markdown",
      "metadata": {
        "id": "D3LkPszqGyTL"
      },
      "source": [
        "Now we will build the matrix (only with the training data), missing values are filled with zeros."
      ]
    },
    {
      "cell_type": "code",
      "execution_count": null,
      "metadata": {
        "colab": {
          "base_uri": "https://localhost:8080/"
        },
        "id": "w5JlWs_dG3Ps",
        "outputId": "3113b58a-81aa-45b7-9a7f-4fbda7938cc0"
      },
      "outputs": [
        {
          "name": "stdout",
          "output_type": "stream",
          "text": [
            "Training interaction matrix shape: (2068, 229)\n"
          ]
        }
      ],
      "source": [
        "# Build index mapping and interaction matrix using training data only\n",
        "drugs = sorted(pd.concat([train_df['Drug_ID'], val_df[\"Drug_ID\"], test_df['Drug_ID']]).unique())\n",
        "prots = sorted(pd.concat([train_df['Target_ID'], val_df[\"Target_ID\"], test_df['Target_ID']]).unique())\n",
        "drug_to_idx = {d:i for i,d in enumerate(drugs)}\n",
        "prot_to_idx = {p:i for i,p in enumerate(prots)}\n",
        "\n",
        "M_train = np.zeros((len(drugs), len(prots)))\n",
        "for _, row in train_df.iterrows():\n",
        "    i = drug_to_idx[row['Drug_ID']]\n",
        "    j = prot_to_idx[row['Target_ID']]\n",
        "    M_train[i, j] = row['Y']  # affinity score\n",
        "\n",
        "print(\"Training interaction matrix shape:\", M_train.shape)"
      ]
    },
    {
      "cell_type": "markdown",
      "metadata": {
        "id": "L29bS7QlG_mb"
      },
      "source": [
        "And perform the SVD."
      ]
    },
    {
      "cell_type": "code",
      "execution_count": null,
      "metadata": {
        "colab": {
          "base_uri": "https://localhost:8080/"
        },
        "id": "bzLhJPFTPBOc",
        "outputId": "4e44adc4-1392-4fb4-c017-ea65cb4c94b1"
      },
      "outputs": [
        {
          "name": "stdout",
          "output_type": "stream",
          "text": [
            "SVD performed with k=64\n",
            "Original matrix shape:  (2068, 229)\n",
            "U shape: (2068, 64)\n",
            "S shape: (64,)\n",
            "VT shape: (64, 229)\n",
            "Reconstructed matrix shape:  (2068, 229)\n"
          ]
        }
      ],
      "source": [
        "# Perform truncated SVD on the training matrix\n",
        "from sklearn.utils.extmath import randomized_svd\n",
        "k = 64  # latent dimension (chosen hyperparameter)\n",
        "U, S, VT = randomized_svd(M_train, n_components=k, random_state=42)\n",
        "\n",
        "print(f\"SVD performed with k={k}\")\n",
        "print(\"Original matrix shape: \", M_train.shape)\n",
        "print(\"U shape:\", U.shape)\n",
        "print(\"S shape:\", S.shape)\n",
        "print(\"VT shape:\", VT.shape)\n",
        "\n",
        "M_recon = U.dot(np.diag(S)).dot(VT)\n",
        "print(\"Reconstructed matrix shape: \", M_recon.shape)\n"
      ]
    },
    {
      "cell_type": "code",
      "execution_count": null,
      "metadata": {
        "colab": {
          "base_uri": "https://localhost:8080/"
        },
        "id": "iGRm6fkHMTSC",
        "outputId": "87552bc6-818d-4ed8-b33b-c7aee067f693"
      },
      "outputs": [
        {
          "name": "stdout",
          "output_type": "stream",
          "text": [
            "train MSE:  11.043778255971814\n"
          ]
        }
      ],
      "source": [
        "# Evaluate on training set\n",
        "mask = (M_train != 0)\n",
        "mse = np.mean((M_recon[mask] - M_train[mask])**2)\n",
        "print(\"train MSE: \", mse)"
      ]
    },
    {
      "cell_type": "code",
      "execution_count": null,
      "metadata": {
        "colab": {
          "base_uri": "https://localhost:8080/"
        },
        "id": "ytxlTSSRHji0",
        "outputId": "08150f6d-6ade-4acd-a4e2-cc5f79dea145"
      },
      "outputs": [
        {
          "name": "stdout",
          "output_type": "stream",
          "text": [
            "Test MSE (k=64): 77.64945781454135\n"
          ]
        }
      ],
      "source": [
        "# Evaluate on test set\n",
        "\n",
        "test_pred = []\n",
        "test_true = []\n",
        "for _, row in test_df.iterrows():\n",
        "    i = drug_to_idx[row['Drug_ID']]\n",
        "    j = prot_to_idx[row['Target_ID']]\n",
        "    test_pred.append(M_recon[i, j])\n",
        "    test_true.append(row['Y'])\n",
        "\n",
        "test_pred = np.array(test_pred)\n",
        "test_true = np.array(test_true)\n",
        "\n",
        "mse = np.mean((test_pred - test_true)**2)\n",
        "\n",
        "print(f\"Test MSE (k={k}):\", mse)"
      ]
    },
    {
      "cell_type": "markdown",
      "metadata": {
        "id": "IvhBY9zc6mbA"
      },
      "source": [
        "# 2. Two-Branch Neural Network\n",
        "A more flexible method is a two-branch neural network that embeds each drug and protein via learnable layers, then combines them to predict affinity.\n",
        "Here we use simple embedding layers + MLP. Concretely, each drug index and protein index is mapped to a trainable embedding vector (size emb_dim), then concatenated and passed through an MLP to output one affinity score. The model is:\n",
        "\n",
        "$$\\hat{y}_{dp}=f(e_d,e_p),$$\n",
        "\n",
        "where $\\mathbf{e}_d$ and $\\mathbf{e}_p$ are embedding vectors for drug $d$ and protein $p$. We then minimize MSE loss on known interactions."
      ]
    },
    {
      "cell_type": "markdown",
      "metadata": {},
      "source": [
        "**Exercise:** Implement the two-branch neural network model and train it on the training data. Evaluate its performance on the test set using MSE. Use embedding layers for the input of the different branches, and a simple MLP to merge the branches and to make the final prediction."
      ]
    },
    {
      "cell_type": "code",
      "execution_count": null,
      "metadata": {
        "id": "JHSQ-owVPqMd"
      },
      "outputs": [],
      "source": [
        "import torch\n",
        "import torch.nn as nn\n",
        "import torch.nn.functional as F\n",
        "from torch.utils.data import DataLoader, TensorDataset\n",
        "from tdc.multi_pred import DTI\n",
        "import numpy as np\n",
        "\n",
        "# Implement Two branch NN\n",
        "class TwoBranchNN(nn.Module):\n",
        "    def __init__(self, num_drugs, num_prots, emb_dim=64, hidden_dim=32):\n",
        "        super().__init__()\n",
        "        self.drug_emb = nn.Embedding(num_drugs, emb_dim)\n",
        "        self.prot_emb = nn.Embedding(num_prots, emb_dim)\n",
        "        self.fc1 = nn.Linear(emb_dim*2, hidden_dim)\n",
        "        self.fc2 = nn.Linear(hidden_dim, 1)\n",
        "    def forward(self, d_idx, p_idx):\n",
        "        d = self.drug_emb(d_idx)\n",
        "        p = self.prot_emb(p_idx)\n",
        "        x = torch.cat([d, p], dim=1)\n",
        "        x = F.relu(self.fc1(x))\n",
        "        x = self.fc2(x)\n",
        "        return x.squeeze()"
      ]
    },
    {
      "cell_type": "code",
      "execution_count": 10,
      "metadata": {
        "colab": {
          "base_uri": "https://localhost:8080/"
        },
        "id": "L3TIQ0ec7ays",
        "outputId": "8209f3f1-1912-4fc9-d9d4-86a444bcec03"
      },
      "outputs": [
        {
          "name": "stdout",
          "output_type": "stream",
          "text": [
            "Epoch 1: validation MSE = 49.714\n",
            "Epoch 2: validation MSE = 6.154\n",
            "Epoch 3: validation MSE = 1.724\n",
            "Epoch 4: validation MSE = 1.039\n",
            "Epoch 5: validation MSE = 0.869\n",
            "Epoch 6: validation MSE = 0.776\n",
            "Epoch 7: validation MSE = 0.711\n",
            "Epoch 8: validation MSE = 0.663\n",
            "Epoch 9: validation MSE = 0.629\n",
            "Epoch 10: validation MSE = 0.602\n",
            "Epoch 11: validation MSE = 0.584\n",
            "Epoch 12: validation MSE = 0.566\n",
            "Epoch 13: validation MSE = 0.550\n",
            "Epoch 14: validation MSE = 0.538\n",
            "Epoch 15: validation MSE = 0.524\n",
            "Epoch 16: validation MSE = 0.514\n",
            "Epoch 17: validation MSE = 0.500\n",
            "Epoch 18: validation MSE = 0.490\n",
            "Epoch 19: validation MSE = 0.478\n",
            "Epoch 20: validation MSE = 0.472\n",
            "Epoch 21: validation MSE = 0.462\n",
            "Epoch 22: validation MSE = 0.451\n",
            "Epoch 23: validation MSE = 0.445\n",
            "Epoch 24: validation MSE = 0.439\n",
            "Epoch 25: validation MSE = 0.433\n",
            "Epoch 26: validation MSE = 0.426\n",
            "Epoch 27: validation MSE = 0.420\n",
            "Epoch 28: validation MSE = 0.414\n",
            "Epoch 29: validation MSE = 0.415\n",
            "Epoch 30: validation MSE = 0.409\n",
            "Epoch 31: validation MSE = 0.406\n",
            "Epoch 32: validation MSE = 0.406\n",
            "Epoch 33: validation MSE = 0.403\n",
            "Epoch 34: validation MSE = 0.398\n",
            "Epoch 35: validation MSE = 0.400\n",
            "Epoch 36: validation MSE = 0.396\n",
            "Epoch 37: validation MSE = 0.396\n",
            "Epoch 38: validation MSE = 0.397\n",
            "Epoch 39: validation MSE = 0.394\n",
            "Epoch 40: validation MSE = 0.394\n",
            "Epoch 41: validation MSE = 0.392\n",
            "Epoch 42: validation MSE = 0.392\n",
            "Epoch 43: validation MSE = 0.392\n",
            "Epoch 44: validation MSE = 0.393\n",
            "Epoch 45: validation MSE = 0.392\n",
            "Epoch 46: validation MSE = 0.390\n",
            "Epoch 47: validation MSE = 0.391\n",
            "Epoch 48: validation MSE = 0.388\n",
            "Epoch 49: validation MSE = 0.388\n",
            "Epoch 50: validation MSE = 0.389\n",
            "\n",
            "Final test MSE = 0.390\n"
          ]
        }
      ],
      "source": [
        "# Prepare data tensors\n",
        "train_d_idx = torch.LongTensor([drug_to_idx[d] for d in train_df['Drug_ID']])\n",
        "train_p_idx = torch.LongTensor([prot_to_idx[p] for p in train_df['Target_ID']])\n",
        "train_y = torch.FloatTensor(train_df['Y'].values)\n",
        "\n",
        "val_d_idx = torch.LongTensor([drug_to_idx[d] for d in val_df['Drug_ID']])\n",
        "val_p_idx = torch.LongTensor([prot_to_idx[p] for p in val_df['Target_ID']])\n",
        "val_y = torch.FloatTensor(val_df['Y'].values)\n",
        "\n",
        "test_d_idx = torch.LongTensor([drug_to_idx[d] for d in test_df['Drug_ID']])\n",
        "test_p_idx = torch.LongTensor([prot_to_idx[p] for p in test_df['Target_ID']])\n",
        "test_y = torch.FloatTensor(test_df['Y'].values)\n",
        "\n",
        "\n",
        "train_ds = TensorDataset(train_d_idx, train_p_idx, train_y)\n",
        "val_ds  = TensorDataset(val_d_idx,  val_p_idx,  val_y)\n",
        "test_ds  = TensorDataset(test_d_idx,  test_p_idx,  test_y)\n",
        "\n",
        "train_loader = DataLoader(train_ds, batch_size=1024, shuffle=True)\n",
        "val_loader  = DataLoader(val_ds,  batch_size=1024)\n",
        "test_loader  = DataLoader(test_ds,  batch_size=1024)\n",
        "\n",
        "# Instantiate model, loss, optimizer\n",
        "device = torch.device('cuda' if torch.cuda.is_available() else 'cpu')\n",
        "model = TwoBranchNN(len(drugs), len(prots), emb_dim=64, hidden_dim=64).to(device)\n",
        "optimizer = torch.optim.Adam(model.parameters(), lr=1e-3)\n",
        "loss_fn = nn.MSELoss()\n",
        "\n",
        "# Training loop\n",
        "for epoch in range(50):\n",
        "    model.train()\n",
        "    for d_batch, p_batch, y_batch in train_loader:\n",
        "        d_batch, p_batch, y_batch = d_batch.to(device), p_batch.to(device), y_batch.to(device)\n",
        "        pred = model(d_batch, p_batch)\n",
        "        loss = loss_fn(pred, y_batch)\n",
        "        optimizer.zero_grad()\n",
        "        loss.backward()\n",
        "        optimizer.step()\n",
        "\n",
        "    # Evaluate on validation set\n",
        "    model.eval()\n",
        "    with torch.no_grad():\n",
        "        val_pred = []\n",
        "        val_true = []\n",
        "        for d_batch, p_batch, y_batch in val_loader:\n",
        "            d_batch, p_batch = d_batch.to(device), p_batch.to(device)\n",
        "            out = model(d_batch, p_batch)\n",
        "            val_pred.append(out.cpu())\n",
        "            val_true.append(y_batch)\n",
        "        val_pred = torch.cat(val_pred).numpy()\n",
        "        val_true = torch.cat(val_true).numpy()\n",
        "        mse = ((val_pred - val_true)**2).mean()\n",
        "        print(f\"Epoch {epoch+1}: validation MSE = {mse:.3f}\")\n",
        "\n",
        "# Final evaluation on test set\n",
        "model.eval()\n",
        "with torch.no_grad():\n",
        "    test_pred = []\n",
        "    test_true = []\n",
        "    for d_batch, p_batch, y_batch in test_loader:\n",
        "        d_batch, p_batch = d_batch.to(device), p_batch.to(device)\n",
        "        out = model(d_batch, p_batch)\n",
        "        test_pred.append(out.cpu())\n",
        "        test_true.append(y_batch)\n",
        "    test_pred = torch.cat(test_pred).numpy()\n",
        "    test_true = torch.cat(test_true).numpy()\n",
        "    test_mse = ((test_pred - test_true)**2).mean()\n",
        "    print(f\"\\nFinal test MSE = {test_mse:.3f}\")"
      ]
    },
    {
      "cell_type": "markdown",
      "metadata": {
        "id": "kbb5jBGj-HUH"
      },
      "source": [
        "# 3. Extended Two-Branch Model with Features (Zero-Shot Prediction)\n",
        "\n",
        "To generalize to new drugs or proteins (zero-shot prediction), we incorporate explicit features of compounds and proteins alongside embeddings. For example, we can compute a molecular fingerprint for each SMILES string, and a simple composition-based vector for each protein sequence.\n",
        "\n",
        "These features can replace our ID embeddings or be used in addition to them, we will do the latter. The model now has two inputs per branch: (i) the ID embedding and (ii) the explicit feature vector. These are concatenated to produce the branch representation.\n",
        "\n",
        "Explicitly, each drug’s SMILES is converted to a fixed-length fingerprint (e.g. 1024-bit Morgan fingerprint), and each protein sequence to a numeric feature (e.g. counts of amino acids). These allow the model to form a prediction even if the drug or protein was not seen during training (it still has features). Formally, incorporating features enables prediction on new drug/target combinations."
      ]
    },
    {
      "cell_type": "markdown",
      "metadata": {},
      "source": [
        "**Exercise:** Implement this extended two-branch model that uses both ID embeddings and explicit features for drugs and proteins. Train it on the training data and evaluate its performance on the test set using MSE. Test its ability to predict interactions involving new drugs not seen during training. "
      ]
    },
    {
      "cell_type": "code",
      "execution_count": null,
      "metadata": {
        "colab": {
          "base_uri": "https://localhost:8080/"
        },
        "id": "o2ihyk-wETwj",
        "outputId": "5a15df4e-0798-488a-915e-83360a63eddf"
      },
      "outputs": [
        {
          "name": "stderr",
          "output_type": "stream",
          "text": [
            "Found local copy...\n",
            "Loading...\n",
            "Done!\n",
            "Epoch 1: 100%|██████████| 323/323 [00:03<00:00, 84.10it/s]\n"
          ]
        },
        {
          "name": "stdout",
          "output_type": "stream",
          "text": [
            "Epoch 1: train MSE=4.2855, val MSE=2.5237\n"
          ]
        },
        {
          "name": "stderr",
          "output_type": "stream",
          "text": [
            "Epoch 2: 100%|██████████| 323/323 [00:05<00:00, 60.96it/s]\n"
          ]
        },
        {
          "name": "stdout",
          "output_type": "stream",
          "text": [
            "Epoch 2: train MSE=0.5999, val MSE=2.5641\n"
          ]
        },
        {
          "name": "stderr",
          "output_type": "stream",
          "text": [
            "Epoch 3: 100%|██████████| 323/323 [00:03<00:00, 82.05it/s]\n"
          ]
        },
        {
          "name": "stdout",
          "output_type": "stream",
          "text": [
            "Epoch 3: train MSE=0.4292, val MSE=2.6961\n"
          ]
        },
        {
          "name": "stderr",
          "output_type": "stream",
          "text": [
            "Epoch 4: 100%|██████████| 323/323 [00:03<00:00, 86.86it/s]\n"
          ]
        },
        {
          "name": "stdout",
          "output_type": "stream",
          "text": [
            "Epoch 4: train MSE=0.3823, val MSE=2.6888\n"
          ]
        },
        {
          "name": "stderr",
          "output_type": "stream",
          "text": [
            "Epoch 5: 100%|██████████| 323/323 [00:04<00:00, 64.85it/s]\n"
          ]
        },
        {
          "name": "stdout",
          "output_type": "stream",
          "text": [
            "Epoch 5: train MSE=0.3670, val MSE=2.8319\n"
          ]
        },
        {
          "name": "stderr",
          "output_type": "stream",
          "text": [
            "Epoch 6: 100%|██████████| 323/323 [00:03<00:00, 89.31it/s]\n"
          ]
        },
        {
          "name": "stdout",
          "output_type": "stream",
          "text": [
            "Epoch 6: train MSE=0.3538, val MSE=2.8648\n"
          ]
        },
        {
          "name": "stderr",
          "output_type": "stream",
          "text": [
            "Epoch 7: 100%|██████████| 323/323 [00:03<00:00, 83.15it/s]\n"
          ]
        },
        {
          "name": "stdout",
          "output_type": "stream",
          "text": [
            "Epoch 7: train MSE=0.3424, val MSE=2.8388\n"
          ]
        },
        {
          "name": "stderr",
          "output_type": "stream",
          "text": [
            "Epoch 8: 100%|██████████| 323/323 [00:04<00:00, 68.59it/s]\n"
          ]
        },
        {
          "name": "stdout",
          "output_type": "stream",
          "text": [
            "Epoch 8: train MSE=0.3382, val MSE=2.7361\n"
          ]
        },
        {
          "name": "stderr",
          "output_type": "stream",
          "text": [
            "Epoch 9: 100%|██████████| 323/323 [00:03<00:00, 86.03it/s]\n"
          ]
        },
        {
          "name": "stdout",
          "output_type": "stream",
          "text": [
            "Epoch 9: train MSE=0.3262, val MSE=2.8917\n"
          ]
        },
        {
          "name": "stderr",
          "output_type": "stream",
          "text": [
            "Epoch 10: 100%|██████████| 323/323 [00:03<00:00, 91.70it/s]\n"
          ]
        },
        {
          "name": "stdout",
          "output_type": "stream",
          "text": [
            "Epoch 10: train MSE=0.3254, val MSE=2.6089\n"
          ]
        },
        {
          "name": "stderr",
          "output_type": "stream",
          "text": [
            "Epoch 11: 100%|██████████| 323/323 [00:04<00:00, 70.16it/s]\n"
          ]
        },
        {
          "name": "stdout",
          "output_type": "stream",
          "text": [
            "Epoch 11: train MSE=0.3114, val MSE=2.5976\n"
          ]
        },
        {
          "name": "stderr",
          "output_type": "stream",
          "text": [
            "Epoch 12: 100%|██████████| 323/323 [00:03<00:00, 81.67it/s]\n"
          ]
        },
        {
          "name": "stdout",
          "output_type": "stream",
          "text": [
            "Epoch 12: train MSE=0.3007, val MSE=2.5298\n"
          ]
        },
        {
          "name": "stderr",
          "output_type": "stream",
          "text": [
            "Epoch 13: 100%|██████████| 323/323 [00:03<00:00, 93.44it/s]\n"
          ]
        },
        {
          "name": "stdout",
          "output_type": "stream",
          "text": [
            "Epoch 13: train MSE=0.2984, val MSE=2.4404\n"
          ]
        },
        {
          "name": "stderr",
          "output_type": "stream",
          "text": [
            "Epoch 14: 100%|██████████| 323/323 [00:04<00:00, 69.42it/s]\n"
          ]
        },
        {
          "name": "stdout",
          "output_type": "stream",
          "text": [
            "Epoch 14: train MSE=0.2937, val MSE=2.4566\n"
          ]
        },
        {
          "name": "stderr",
          "output_type": "stream",
          "text": [
            "Epoch 15: 100%|██████████| 323/323 [00:03<00:00, 92.08it/s]\n"
          ]
        },
        {
          "name": "stdout",
          "output_type": "stream",
          "text": [
            "Epoch 15: train MSE=0.2806, val MSE=2.3657\n"
          ]
        },
        {
          "name": "stderr",
          "output_type": "stream",
          "text": [
            "Epoch 16: 100%|██████████| 323/323 [00:03<00:00, 85.43it/s]\n"
          ]
        },
        {
          "name": "stdout",
          "output_type": "stream",
          "text": [
            "Epoch 16: train MSE=0.2781, val MSE=2.3663\n"
          ]
        },
        {
          "name": "stderr",
          "output_type": "stream",
          "text": [
            "Epoch 17: 100%|██████████| 323/323 [00:04<00:00, 72.70it/s]\n"
          ]
        },
        {
          "name": "stdout",
          "output_type": "stream",
          "text": [
            "Epoch 17: train MSE=0.2723, val MSE=2.3558\n"
          ]
        },
        {
          "name": "stderr",
          "output_type": "stream",
          "text": [
            "Epoch 18: 100%|██████████| 323/323 [00:03<00:00, 85.72it/s]\n"
          ]
        },
        {
          "name": "stdout",
          "output_type": "stream",
          "text": [
            "Epoch 18: train MSE=0.2686, val MSE=2.3298\n"
          ]
        },
        {
          "name": "stderr",
          "output_type": "stream",
          "text": [
            "Epoch 19: 100%|██████████| 323/323 [00:03<00:00, 91.02it/s]\n"
          ]
        },
        {
          "name": "stdout",
          "output_type": "stream",
          "text": [
            "Epoch 19: train MSE=0.2626, val MSE=2.3386\n"
          ]
        },
        {
          "name": "stderr",
          "output_type": "stream",
          "text": [
            "Epoch 20: 100%|██████████| 323/323 [00:04<00:00, 68.70it/s]\n"
          ]
        },
        {
          "name": "stdout",
          "output_type": "stream",
          "text": [
            "Epoch 20: train MSE=0.2624, val MSE=2.3348\n"
          ]
        },
        {
          "name": "stderr",
          "output_type": "stream",
          "text": [
            "Epoch 21: 100%|██████████| 323/323 [00:03<00:00, 91.78it/s]\n"
          ]
        },
        {
          "name": "stdout",
          "output_type": "stream",
          "text": [
            "Epoch 21: train MSE=0.2527, val MSE=2.2611\n"
          ]
        },
        {
          "name": "stderr",
          "output_type": "stream",
          "text": [
            "Epoch 22: 100%|██████████| 323/323 [00:03<00:00, 84.58it/s]\n"
          ]
        },
        {
          "name": "stdout",
          "output_type": "stream",
          "text": [
            "Epoch 22: train MSE=0.2520, val MSE=2.3417\n"
          ]
        },
        {
          "name": "stderr",
          "output_type": "stream",
          "text": [
            "Epoch 23: 100%|██████████| 323/323 [00:04<00:00, 74.64it/s]\n"
          ]
        },
        {
          "name": "stdout",
          "output_type": "stream",
          "text": [
            "Epoch 23: train MSE=0.2437, val MSE=2.2590\n"
          ]
        },
        {
          "name": "stderr",
          "output_type": "stream",
          "text": [
            "Epoch 24: 100%|██████████| 323/323 [00:03<00:00, 86.06it/s]\n"
          ]
        },
        {
          "name": "stdout",
          "output_type": "stream",
          "text": [
            "Epoch 24: train MSE=0.2407, val MSE=2.2130\n"
          ]
        },
        {
          "name": "stderr",
          "output_type": "stream",
          "text": [
            "Epoch 25: 100%|██████████| 323/323 [00:03<00:00, 93.03it/s]\n"
          ]
        },
        {
          "name": "stdout",
          "output_type": "stream",
          "text": [
            "Epoch 25: train MSE=0.2371, val MSE=2.2169\n"
          ]
        },
        {
          "name": "stderr",
          "output_type": "stream",
          "text": [
            "Epoch 26: 100%|██████████| 323/323 [00:04<00:00, 69.67it/s]\n"
          ]
        },
        {
          "name": "stdout",
          "output_type": "stream",
          "text": [
            "Epoch 26: train MSE=0.2351, val MSE=2.1964\n"
          ]
        },
        {
          "name": "stderr",
          "output_type": "stream",
          "text": [
            "Epoch 27: 100%|██████████| 323/323 [00:03<00:00, 93.19it/s]\n"
          ]
        },
        {
          "name": "stdout",
          "output_type": "stream",
          "text": [
            "Epoch 27: train MSE=0.2298, val MSE=2.3116\n"
          ]
        },
        {
          "name": "stderr",
          "output_type": "stream",
          "text": [
            "Epoch 28: 100%|██████████| 323/323 [00:03<00:00, 85.28it/s]\n"
          ]
        },
        {
          "name": "stdout",
          "output_type": "stream",
          "text": [
            "Epoch 28: train MSE=0.2271, val MSE=2.2999\n"
          ]
        },
        {
          "name": "stderr",
          "output_type": "stream",
          "text": [
            "Epoch 29: 100%|██████████| 323/323 [00:07<00:00, 43.96it/s]\n"
          ]
        },
        {
          "name": "stdout",
          "output_type": "stream",
          "text": [
            "Epoch 29: train MSE=0.2238, val MSE=2.2084\n"
          ]
        },
        {
          "name": "stderr",
          "output_type": "stream",
          "text": [
            "Epoch 30: 100%|██████████| 323/323 [00:10<00:00, 32.09it/s]\n"
          ]
        },
        {
          "name": "stdout",
          "output_type": "stream",
          "text": [
            "Epoch 30: train MSE=0.2169, val MSE=2.2111\n"
          ]
        },
        {
          "name": "stderr",
          "output_type": "stream",
          "text": [
            "Epoch 31: 100%|██████████| 323/323 [00:03<00:00, 90.21it/s]\n"
          ]
        },
        {
          "name": "stdout",
          "output_type": "stream",
          "text": [
            "Epoch 31: train MSE=0.2176, val MSE=2.1946\n"
          ]
        },
        {
          "name": "stderr",
          "output_type": "stream",
          "text": [
            "Epoch 32: 100%|██████████| 323/323 [00:03<00:00, 85.24it/s]\n"
          ]
        },
        {
          "name": "stdout",
          "output_type": "stream",
          "text": [
            "Epoch 32: train MSE=0.2078, val MSE=2.2696\n"
          ]
        },
        {
          "name": "stderr",
          "output_type": "stream",
          "text": [
            "Epoch 33: 100%|██████████| 323/323 [00:04<00:00, 70.98it/s]\n"
          ]
        },
        {
          "name": "stdout",
          "output_type": "stream",
          "text": [
            "Epoch 33: train MSE=0.2081, val MSE=2.1613\n"
          ]
        },
        {
          "name": "stderr",
          "output_type": "stream",
          "text": [
            "Epoch 34: 100%|██████████| 323/323 [00:03<00:00, 90.71it/s]\n"
          ]
        },
        {
          "name": "stdout",
          "output_type": "stream",
          "text": [
            "Epoch 34: train MSE=0.2045, val MSE=2.1586\n"
          ]
        },
        {
          "name": "stderr",
          "output_type": "stream",
          "text": [
            "Epoch 35: 100%|██████████| 323/323 [00:03<00:00, 92.47it/s]\n"
          ]
        },
        {
          "name": "stdout",
          "output_type": "stream",
          "text": [
            "Epoch 35: train MSE=0.1996, val MSE=2.1889\n"
          ]
        },
        {
          "name": "stderr",
          "output_type": "stream",
          "text": [
            "Epoch 36: 100%|██████████| 323/323 [00:04<00:00, 72.36it/s]\n"
          ]
        },
        {
          "name": "stdout",
          "output_type": "stream",
          "text": [
            "Epoch 36: train MSE=0.1974, val MSE=2.1980\n"
          ]
        },
        {
          "name": "stderr",
          "output_type": "stream",
          "text": [
            "Epoch 37: 100%|██████████| 323/323 [00:03<00:00, 85.82it/s]\n"
          ]
        },
        {
          "name": "stdout",
          "output_type": "stream",
          "text": [
            "Epoch 37: train MSE=0.1961, val MSE=2.1409\n"
          ]
        },
        {
          "name": "stderr",
          "output_type": "stream",
          "text": [
            "Epoch 38: 100%|██████████| 323/323 [00:03<00:00, 92.44it/s]\n"
          ]
        },
        {
          "name": "stdout",
          "output_type": "stream",
          "text": [
            "Epoch 38: train MSE=0.1920, val MSE=2.1365\n"
          ]
        },
        {
          "name": "stderr",
          "output_type": "stream",
          "text": [
            "Epoch 39: 100%|██████████| 323/323 [00:04<00:00, 68.06it/s]\n"
          ]
        },
        {
          "name": "stdout",
          "output_type": "stream",
          "text": [
            "Epoch 39: train MSE=0.1889, val MSE=2.0917\n"
          ]
        },
        {
          "name": "stderr",
          "output_type": "stream",
          "text": [
            "Epoch 40: 100%|██████████| 323/323 [00:03<00:00, 91.06it/s]\n"
          ]
        },
        {
          "name": "stdout",
          "output_type": "stream",
          "text": [
            "Epoch 40: train MSE=0.1844, val MSE=2.1786\n"
          ]
        },
        {
          "name": "stderr",
          "output_type": "stream",
          "text": [
            "Epoch 41: 100%|██████████| 323/323 [00:03<00:00, 83.39it/s]\n"
          ]
        },
        {
          "name": "stdout",
          "output_type": "stream",
          "text": [
            "Epoch 41: train MSE=0.1811, val MSE=2.1551\n"
          ]
        },
        {
          "name": "stderr",
          "output_type": "stream",
          "text": [
            "Epoch 42: 100%|██████████| 323/323 [00:04<00:00, 71.50it/s]\n"
          ]
        },
        {
          "name": "stdout",
          "output_type": "stream",
          "text": [
            "Epoch 42: train MSE=0.1779, val MSE=2.1719\n"
          ]
        },
        {
          "name": "stderr",
          "output_type": "stream",
          "text": [
            "Epoch 43: 100%|██████████| 323/323 [00:03<00:00, 84.25it/s]\n"
          ]
        },
        {
          "name": "stdout",
          "output_type": "stream",
          "text": [
            "Epoch 43: train MSE=0.1784, val MSE=2.0845\n"
          ]
        },
        {
          "name": "stderr",
          "output_type": "stream",
          "text": [
            "Epoch 44: 100%|██████████| 323/323 [00:03<00:00, 91.46it/s]\n"
          ]
        },
        {
          "name": "stdout",
          "output_type": "stream",
          "text": [
            "Epoch 44: train MSE=0.1756, val MSE=2.1220\n"
          ]
        },
        {
          "name": "stderr",
          "output_type": "stream",
          "text": [
            "Epoch 45: 100%|██████████| 323/323 [00:04<00:00, 69.38it/s]\n"
          ]
        },
        {
          "name": "stdout",
          "output_type": "stream",
          "text": [
            "Epoch 45: train MSE=0.1713, val MSE=2.0954\n"
          ]
        },
        {
          "name": "stderr",
          "output_type": "stream",
          "text": [
            "Epoch 46: 100%|██████████| 323/323 [00:03<00:00, 89.62it/s]\n"
          ]
        },
        {
          "name": "stdout",
          "output_type": "stream",
          "text": [
            "Epoch 46: train MSE=0.1709, val MSE=2.0380\n"
          ]
        },
        {
          "name": "stderr",
          "output_type": "stream",
          "text": [
            "Epoch 47: 100%|██████████| 323/323 [00:04<00:00, 76.14it/s]\n"
          ]
        },
        {
          "name": "stdout",
          "output_type": "stream",
          "text": [
            "Epoch 47: train MSE=0.1671, val MSE=2.0455\n"
          ]
        },
        {
          "name": "stderr",
          "output_type": "stream",
          "text": [
            "Epoch 48: 100%|██████████| 323/323 [00:04<00:00, 73.85it/s]\n"
          ]
        },
        {
          "name": "stdout",
          "output_type": "stream",
          "text": [
            "Epoch 48: train MSE=0.1631, val MSE=2.0471\n"
          ]
        },
        {
          "name": "stderr",
          "output_type": "stream",
          "text": [
            "Epoch 49: 100%|██████████| 323/323 [00:03<00:00, 82.55it/s]\n"
          ]
        },
        {
          "name": "stdout",
          "output_type": "stream",
          "text": [
            "Epoch 49: train MSE=0.1607, val MSE=2.0677\n"
          ]
        },
        {
          "name": "stderr",
          "output_type": "stream",
          "text": [
            "Epoch 50: 100%|██████████| 323/323 [00:04<00:00, 80.34it/s]\n"
          ]
        },
        {
          "name": "stdout",
          "output_type": "stream",
          "text": [
            "Epoch 50: train MSE=0.1589, val MSE=1.9977\n",
            "\n",
            "Final test MSE (drug-holdout) = 1.961\n"
          ]
        }
      ],
      "source": [
        "from rdkit import Chem\n",
        "from rdkit.Chem import AllChem, DataStructs\n",
        "import torch\n",
        "import torch.nn as nn\n",
        "import torch.nn.functional as F\n",
        "from torch.utils.data import TensorDataset, DataLoader\n",
        "import numpy as np\n",
        "from tdc.multi_pred import DTI\n",
        "import pandas as pd\n",
        "from tqdm import tqdm\n",
        "import random\n",
        "\n",
        "\n",
        "data = DTI(name='KIBA')\n",
        "split = data.get_split(method='cold_drug')  # drug-holdout split\n",
        "\n",
        "train_df, val_df, test_df = split['train'], split['valid'], split['test']\n",
        "\n",
        "drug_ids = sorted(pd.concat([train_df['Drug_ID'], val_df['Drug_ID'], test_df['Drug_ID']]).unique())\n",
        "prot_ids = sorted(pd.concat([train_df['Target_ID'], val_df['Target_ID'], test_df['Target_ID']]).unique())\n",
        "\n",
        "drug_to_idx = {d: i for i, d in enumerate(drug_ids)}\n",
        "prot_to_idx = {p: i for i, p in enumerate(prot_ids)}\n",
        "\n",
        "full_df = data.get_data()\n",
        "drug_smiles_map = full_df.set_index('Drug_ID')['Drug'].to_dict()\n",
        "prot_seq_map = full_df.set_index('Target_ID')['Target'].to_dict()\n",
        "\n",
        "num_bits = 512\n",
        "amino_acids = list(\"ACDEFGHIKLMNPQRSTVWY\")\n",
        "\n",
        "def morgan_fp(smi):\n",
        "    mol = Chem.MolFromSmiles(smi)\n",
        "    if mol is None:\n",
        "        return np.zeros(num_bits)\n",
        "    fp = AllChem.GetMorganFingerprintAsBitVect(mol, radius=2, nBits=num_bits)\n",
        "    arr = np.zeros((num_bits,), dtype=int)\n",
        "    DataStructs.ConvertToNumpyArray(fp, arr)\n",
        "    return arr\n",
        "\n",
        "def aa_counts(seq):\n",
        "    return np.array([seq.count(aa) for aa in amino_acids])\n",
        "\n",
        "# Compute and cache features\n",
        "drug_feat_map = {d: morgan_fp(drug_smiles_map[d]) for d in drug_ids}\n",
        "prot_feat_map = {p: aa_counts(prot_seq_map[p]) for p in prot_ids}\n",
        "\n",
        "# Convert to tensors\n",
        "drug_feat_tensor = torch.FloatTensor([drug_feat_map[d] for d in drug_ids])\n",
        "prot_feat_tensor = torch.FloatTensor([prot_feat_map[p] for p in prot_ids])\n",
        "\n",
        "\n",
        "# Dataset construction\n",
        "\n",
        "def make_tensor_dataset(df):\n",
        "    d_idx = torch.LongTensor([drug_to_idx[d] for d in df['Drug_ID']])\n",
        "    p_idx = torch.LongTensor([prot_to_idx[p] for p in df['Target_ID']])\n",
        "    y = torch.FloatTensor(df['Y'].values)\n",
        "    d_feat = drug_feat_tensor[d_idx]\n",
        "    p_feat = prot_feat_tensor[p_idx]\n",
        "    return TensorDataset(d_idx, p_idx, y, d_feat, p_feat)\n",
        "\n",
        "train_ds = make_tensor_dataset(train_df)\n",
        "val_ds   = make_tensor_dataset(val_df)\n",
        "test_ds  = make_tensor_dataset(test_df)\n",
        "\n",
        "train_loader = DataLoader(train_ds, batch_size=256, shuffle=True)\n",
        "val_loader   = DataLoader(val_ds, batch_size=256)\n",
        "test_loader  = DataLoader(test_ds, batch_size=256)\n",
        "\n",
        "\n",
        "# Model definition\n",
        "\n",
        "class TwoBranchWithFeatures(nn.Module):\n",
        "    def __init__(self, num_drugs, num_prots, emb_dim=64, feat_drug_dim=512, feat_prot_dim=20, hidden_dim=128):\n",
        "        super().__init__()\n",
        "        # ID embeddings\n",
        "        self.drug_emb = nn.Embedding(num_drugs, emb_dim)\n",
        "        self.prot_emb = nn.Embedding(num_prots, emb_dim)\n",
        "\n",
        "        # Two-layer MLP per branch on concatenated [ID embedding | features]\n",
        "        self.drug_mlp1 = nn.Linear(emb_dim + feat_drug_dim, hidden_dim)\n",
        "        self.drug_mlp2 = nn.Linear(hidden_dim, hidden_dim)\n",
        "\n",
        "        self.prot_mlp1 = nn.Linear(emb_dim + feat_prot_dim, hidden_dim)\n",
        "        self.prot_mlp2 = nn.Linear(hidden_dim, hidden_dim)\n",
        "\n",
        "        # Two-layer head after concatenating both branches\n",
        "        self.post1 = nn.Linear(2 * hidden_dim, hidden_dim)\n",
        "        self.post2 = nn.Linear(hidden_dim, hidden_dim)\n",
        "        self.out = nn.Linear(hidden_dim, 1)\n",
        "\n",
        "    def forward(self, d_idx, p_idx, d_feat, p_feat):\n",
        "        # Concatenate ID embeddings with raw features\n",
        "        d = torch.cat([self.drug_emb(d_idx), d_feat], dim=-1)\n",
        "        p = torch.cat([self.prot_emb(p_idx), p_feat], dim=-1)\n",
        "\n",
        "        # Two linear layers per branch\n",
        "        d = F.relu(self.drug_mlp1(d))\n",
        "        d = F.relu(self.drug_mlp2(d))\n",
        "        \n",
        "        p = F.relu(self.prot_mlp1(p))\n",
        "        p = F.relu(self.prot_mlp2(p))\n",
        "\n",
        "        # Concatenate branches and pass through two more layers\n",
        "        x = torch.cat([d, p], dim=-1)\n",
        "        x = F.relu(self.post1(x))\n",
        "        x = F.relu(self.post2(x))\n",
        "\n",
        "        # Output\n",
        "        x = self.out(x)\n",
        "        return x.squeeze(-1)\n",
        "\n",
        "# Training loop\n",
        "\n",
        "device = torch.device('cuda' if torch.cuda.is_available() else 'cpu')\n",
        "model = TwoBranchWithFeatures(len(drug_ids), len(prot_ids)).to(device)\n",
        "optimizer = torch.optim.Adam(model.parameters(), lr=1e-3)\n",
        "loss_fn = nn.MSELoss()\n",
        "\n",
        "for epoch in range(1, 51):\n",
        "    model.train()\n",
        "    train_loss = 0\n",
        "    for d_idx, p_idx, y, d_feat, p_feat in tqdm(train_loader, desc=f\"Epoch {epoch}\"):\n",
        "        d_idx, p_idx, y, d_feat, p_feat = d_idx.to(device), p_idx.to(device), y.to(device), d_feat.to(device), p_feat.to(device)\n",
        "        pred = model(d_idx, p_idx, d_feat, p_feat)\n",
        "        loss = loss_fn(pred, y)\n",
        "        optimizer.zero_grad()\n",
        "        loss.backward()\n",
        "        optimizer.step()\n",
        "        train_loss += loss.item() * len(y)\n",
        "    train_loss /= len(train_loader.dataset)\n",
        "\n",
        "    # Validation\n",
        "    model.eval()\n",
        "    with torch.no_grad():\n",
        "        preds, targets = [], []\n",
        "        for d_idx, p_idx, y, d_feat, p_feat in val_loader:\n",
        "            d_idx, p_idx, d_feat, p_feat = d_idx.to(device), p_idx.to(device), d_feat.to(device), p_feat.to(device)\n",
        "            out = model(d_idx, p_idx, d_feat, p_feat)\n",
        "            preds.append(out.cpu())\n",
        "            targets.append(y)\n",
        "        preds = torch.cat(preds)\n",
        "        targets = torch.cat(targets)\n",
        "        val_mse = ((preds - targets) ** 2).mean().item()\n",
        "    print(f\"Epoch {epoch}: train MSE={train_loss:.4f}, val MSE={val_mse:.4f}\")\n",
        "\n",
        "\n",
        "# Final test evaluation\n",
        "\n",
        "model.eval()\n",
        "with torch.no_grad():\n",
        "    preds, targets = [], []\n",
        "    for d_idx, p_idx, y, d_feat, p_feat in test_loader:\n",
        "        d_idx, p_idx, d_feat, p_feat = d_idx.to(device), p_idx.to(device), d_feat.to(device), p_feat.to(device)\n",
        "        out = model(d_idx, p_idx, d_feat, p_feat)\n",
        "        preds.append(out.cpu())\n",
        "        targets.append(y)\n",
        "    preds = torch.cat(preds)\n",
        "    targets = torch.cat(targets)\n",
        "    test_mse = ((preds - targets) ** 2).mean().item()\n",
        "print(f\"\\nFinal test MSE (drug-holdout) = {test_mse:.3f}\")\n"
      ]
    },
    {
      "cell_type": "code",
      "execution_count": null,
      "metadata": {},
      "outputs": [],
      "source": [
        "# Final test evaluation\n",
        "\n",
        "model.eval()\n",
        "with torch.no_grad():\n",
        "    preds, targets = [], []\n",
        "    for d_idx, p_idx, y, d_feat, p_feat in test_loader:\n",
        "        d_idx, p_idx, d_feat, p_feat = d_idx.to(device), p_idx.to(device), d_feat.to(device), p_feat.to(device)\n",
        "        out = model(d_idx, p_idx, d_feat, p_feat)\n",
        "        preds.append(out.cpu())\n",
        "        targets.append(y)\n",
        "    preds = torch.cat(preds)\n",
        "    targets = torch.cat(targets)\n",
        "    test_mse = ((preds - targets) ** 2).mean().item()\n",
        "print(f\"\\nFinal test MSE (drug-holdout) = {test_mse:.3f}\")"
      ]
    }
  ],
  "metadata": {
    "colab": {
      "provenance": []
    },
    "kernelspec": {
      "display_name": "Python 3",
      "name": "python3"
    },
    "language_info": {
      "name": "python"
    }
  },
  "nbformat": 4,
  "nbformat_minor": 0
}
